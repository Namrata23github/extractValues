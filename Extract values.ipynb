{
 "cells": [
  {
   "cell_type": "code",
   "execution_count": null,
   "metadata": {},
   "outputs": [],
   "source": []
  },
  {
   "cell_type": "code",
   "execution_count": 17,
   "metadata": {},
   "outputs": [],
   "source": [
    "from __future__ import unicode_literals, print_function\n",
    "import plac\n",
    "import random\n",
    "from pathlib import Path\n",
    "import spacy\n",
    "from tqdm import tqdm"
   ]
  },
  {
   "cell_type": "code",
   "execution_count": null,
   "metadata": {},
   "outputs": [],
   "source": []
  },
  {
   "cell_type": "code",
   "execution_count": 18,
   "metadata": {},
   "outputs": [],
   "source": [
    "TRAIN_DATA = [(\"DIAMOND HILL MID CAP FUND CL (DHPIX) \\t87.013\\t$11.1000 \\t$965.84 \\t$1,041.11 \\t-$75.27 \\t$8.17 25.64 \\t0.850% 2.610 \\r\",\n",
    "       {\"entities\": [\n",
    "            (\n",
    "                30,\n",
    "                35,\n",
    "                \"Ticker\"\n",
    "            ),(\n",
    "                38,\n",
    "                44,\n",
    "                \"Quantity\"\n",
    "           )]}),\n",
    "    (\"OAKMARK INTL FUND NSTL(OANIX) \\t51.243\\t19.2\\t983.86\\t960.27\\t23.59\\t66.32\\t0.91\\r\",\n",
    "       {\"entities\": [\n",
    "            (\n",
    "                23,\n",
    "                28,\n",
    "                \"Ticker\"\n",
    "            ),(\n",
    "                31,\n",
    "                37,\n",
    "                \"Quantity\"\n",
    "           )]}),\n",
    "    (\"MORNINGSTAR US EQUIT INSTL L(MSTQX) \\t736.938\\t9.93\\t7,317.79\\t6,744.95\\t572.84\\t87.47\\t1,980\\r\",\n",
    "       {\"entities\": [\n",
    "            (\n",
    "                29,\n",
    "                34,\n",
    "                \"Ticker\"\n",
    "            ),(\n",
    "                37,\n",
    "                44,\n",
    "                \"Quantity\"\n",
    "           )]}),\n",
    "    (\"MORNINGSTAR INTL EQUITY INSTL (MSTFX) \\t460.351\\t9.6\\t4,419.36\\t4,261.11\\t158.25\\t42.32\\t2.17\\r\",\n",
    "       {\"entities\": [\n",
    "            (\n",
    "                31,\n",
    "                36,\n",
    "                \"Ticker\"\n",
    "            ),(\n",
    "                39,\n",
    "                46,\n",
    "                \"Quantity\"\n",
    "           )]}),\n",
    "    (\"MORNINGSTAR UNCONSTRAINED ALLOC (MSTSX) \\t198.892\\t9.81\\t1,951.13\\t1,745.98\\t205.15\\t34.2\\t1.39\\r\",\n",
    "       {\"entities\": [\n",
    "            (\n",
    "                33,\n",
    "                38,\n",
    "                \"Ticker\"\n",
    "            ),(\n",
    "                41,\n",
    "                48,\n",
    "                \"Quantity\"\n",
    "           )]}),\n",
    "    (\"MORNINGSTAR ALTERNATIVES INSTL \\t236.835\\t10.37\\t4 2,455.97 \\t2,391.47\\t64.5\\t\\t\\r\",\n",
    "       {\"entities\": [\n",
    "            (\n",
    "                32,\n",
    "                39,\n",
    "                \"Quantity\"\n",
    "           )]}),\n",
    "    (\"(MSTVX) Total Stock Funds (37% of account holdings) \\t\\t\\t$18,093.95 \\t$17,144.89 \\t$949.06 \\t$264.12 \\t\\r\",\n",
    "       {\"entities\": [\n",
    "            (\n",
    "                1,\n",
    "                6,\n",
    "                \"Ticker\"\n",
    "           )]}),\n",
    "    (\"(MSTRX) MORNINGSTAR MULTI SECTOR BOND INSTL (MSTMX) \\t439.863\\t9.89\\t4,350.24\\t4,498.89\\t\\t$381.46 \\t\\r\",\n",
    "       {\"entities\": [\n",
    "            (\n",
    "                1,\n",
    "                6,\n",
    "                \"Ticker\"\n",
    "            ),(\n",
    "                53,\n",
    "                60,\n",
    "                \"Quantity\"\n",
    "           )]}),\n",
    "    (\"Total Bond Funds (25% of account holdings) \\t\\t\\t$12,202.23 \\t$11,768.65 \\t$433.58 \\t$645.58 \\t\\r\",\n",
    "       {\"entities\": []\n",
    "    }),\n",
    "    (\"DIAMOND HILL MID CAP FUND CL (DHPIX) \\t87.013\\t$11.1000 \\r\",\n",
    "       {\"entities\": [\n",
    "            (\n",
    "                30,\n",
    "                35,\n",
    "                \"Ticker\"\n",
    "            ),(\n",
    "                38,\n",
    "                44,\n",
    "                \"Quantity\"\n",
    "           )]}),\n",
    "    (\"OAKMARK INTL FUND INSTL (OANIX) \\t51.243\\t19.2\\r\",\n",
    "       {\"entities\": [\n",
    "            (\n",
    "                25,\n",
    "                30,\n",
    "                \"Ticker\"\n",
    "            ),(\n",
    "                33,\n",
    "                39,\n",
    "                \"Quantity\"\n",
    "           )]}),\n",
    "    (\"MORNINGSTAR US EQUIT INSTL (MSTQX) \\t736.938\\t9.93\\r\",\n",
    "       {\"entities\": [\n",
    "            (\n",
    "                28,\n",
    "                33,\n",
    "                \"Ticker\"\n",
    "            ),(\n",
    "                36,\n",
    "                43,\n",
    "                \"Quantity\"\n",
    "           )]}),\n",
    "    (\"MORNINGSTAR INTL EQUITY INSTL (MSTFX) \\t460.351\\t9.6\\r\",\n",
    "       {\"entities\": [\n",
    "            (\n",
    "                31,\n",
    "                36,\n",
    "                \"Ticker\"\n",
    "            ),(\n",
    "                39,\n",
    "                46,\n",
    "                \"Quantity\"\n",
    "           )]}),\n",
    "    (\"MORNINGSTAR UNCONSTRAINED ALLOC (MSTSX) \\t198.892\\t9.81\\r\",\n",
    "       {\"entities\": [\n",
    "            (\n",
    "                33,\n",
    "                38,\n",
    "                \"Ticker\"\n",
    "            ),(\n",
    "                41,\n",
    "                48,\n",
    "                \"Quantity\"\n",
    "           )]}),\n",
    "    (\"MORNINGSTAR ALTERNATIVES INSTL (MSTVX) \\t236.835\\t10.37\\r\",\n",
    "       {\"entities\": [\n",
    "            (\n",
    "                32,\n",
    "                37,\n",
    "                \"Ticker\"\n",
    "            ),(\n",
    "                40,\n",
    "                47,\n",
    "                \"Quantity\"\n",
    "           )]}),\n",
    "    (\"MORNINGSTAR (MSTRX) TOTAL RETURN BOND INSTL \\t704.847\\t$11.1400 \\r\",\n",
    "       {\"entities\": [\n",
    "            (\n",
    "                13,\n",
    "                18,\n",
    "                \"Ticker\"\n",
    "            ),(\n",
    "                45,\n",
    "                52,\n",
    "                \"Quantity\"\n",
    "           )]}),\n",
    "    (\"MORNINGSTAR (MSTMX) MULTI SECTOR BOND INSTL \\t439.863\\t9.89\",\n",
    "       {\"entities\": [\n",
    "            (\n",
    "                13,\n",
    "                18,\n",
    "                \"Ticker\"\n",
    "            ),(\n",
    "                45,\n",
    "                52,\n",
    "                \"Quantity\"\n",
    "           )]}),\n",
    "    (\"ISHARES CORE S&P 500 ETF(IVV) \\t6\\t$309.6900 \\r\",\n",
    "       {\"entities\": [\n",
    "            (\n",
    "                25,\n",
    "                28,\n",
    "                \"Ticker\"\n",
    "            ),(\n",
    "                31,\n",
    "                32,\n",
    "                \"Quantity\"\n",
    "           )]}),\n",
    "    (\"SCHWAB FUNDAMENTAL EM L/C(FNDE) \\t41\\t23.41\\r\",\n",
    "       {\"entities\": [\n",
    "            (\n",
    "                26,\n",
    "                30,\n",
    "                \"Ticker\"\n",
    "            ),(\n",
    "                33,\n",
    "                35,\n",
    "                \"Quantity\"\n",
    "           )]}),\n",
    "    (\"VANGUARD TAX-MANAGED FDS FTSE DEV MKT ETF (VEA) \\t38\\t38.79\\r\",\n",
    "       {\"entities\": [\n",
    "            (\n",
    "                43,\n",
    "                46,\n",
    "                \"Ticker\"\n",
    "            ),(\n",
    "                49,\n",
    "                51,\n",
    "                \"Quantity\"\n",
    "           )]}),\n",
    "    (\"ISHARES TR JP MOR EM MK ETF (EMB) \\t9\\t$109.2200 \\r\",\n",
    "       {\"entities\": [\n",
    "            (\n",
    "                29,\n",
    "                32,\n",
    "                \"Ticker\"\n",
    "            ),(\n",
    "                35,\n",
    "                36,\n",
    "                \"Quantity\"\n",
    "           )]}),\n",
    "    (\"SCHWAB STRATEGIC TR INTERMEDIATE-TERM US TREASURY ETF (SCHR) \\t42\\t58.78\\r\",\n",
    "       {\"entities\": [\n",
    "            (\n",
    "                55,\n",
    "                59,\n",
    "                \"Ticker\"\n",
    "            ),(\n",
    "                62,\n",
    "                64,\n",
    "                \"Quantity\"\n",
    "           )]}),\n",
    "    (\"SCHWAB STRATEGIC TR US TIPS ETF (SCHP) \\t25\\t60.02\\r\",\n",
    "       {\"entities\": [\n",
    "            (\n",
    "                33,\n",
    "                37,\n",
    "                \"Ticker\"\n",
    "            ),(\n",
    "                40,\n",
    "                42,\n",
    "                \"Quantity\"\n",
    "           )]}),\n",
    "    (\"VANGUARD BD INDEX FDS SHORT TRM BOND (BSV) \\t24\\t83.12\\r\",\n",
    "       {\"entities\": [\n",
    "            (\n",
    "                38,\n",
    "                41,\n",
    "                \"Ticker\"\n",
    "            ),(\n",
    "                44,\n",
    "                46,\n",
    "                \"Quantity\"\n",
    "           )]}),\n",
    "    (\"VANGUARD BD INDEX FDS TOTAL BND MRKT (BND) \\t72\\t88.34\",\n",
    "       {\"entities\": [\n",
    "            (\n",
    "                28,\n",
    "                31,\n",
    "                \"Ticker\"\n",
    "            ),(\n",
    "                44,\n",
    "                46,\n",
    "                \"Quantity\")]\n",
    "       })]\n",
    "     "
   ]
  },
  {
   "cell_type": "code",
   "execution_count": 19,
   "metadata": {},
   "outputs": [],
   "source": [
    "model = None\n",
    "output_dir=Path(\"/Users/Nagarwa/AI\")\n",
    "n_iter=100"
   ]
  },
  {
   "cell_type": "code",
   "execution_count": 20,
   "metadata": {},
   "outputs": [
    {
     "name": "stdout",
     "output_type": "stream",
     "text": [
      "Created blank 'en' model\n"
     ]
    }
   ],
   "source": [
    "\n",
    "#load the model\n",
    "\n",
    "if model is not None:\n",
    "    nlp = spacy.load(model)  \n",
    "    print(\"Loaded model '%s'\" % model)\n",
    "else:\n",
    "    nlp = spacy.blank('en')  \n",
    "    print(\"Created blank 'en' model\")\n",
    "\n",
    "#set up the pipeline\n",
    "\n",
    "if 'ner' not in nlp.pipe_names:\n",
    "    ner = nlp.create_pipe('ner')\n",
    "    nlp.add_pipe(ner, last=True)\n",
    "else:\n",
    "    ner = nlp.get_pipe('ner')"
   ]
  },
  {
   "cell_type": "code",
   "execution_count": null,
   "metadata": {},
   "outputs": [
    {
     "name": "stderr",
     "output_type": "stream",
     "text": [
      "100%|██████████| 25/25 [00:00<00:00, 47.68it/s]\n",
      " 16%|█▌        | 4/25 [00:00<00:00, 37.88it/s]"
     ]
    },
    {
     "name": "stdout",
     "output_type": "stream",
     "text": [
      "{'ner': 182.52904430980834}\n"
     ]
    },
    {
     "name": "stderr",
     "output_type": "stream",
     "text": [
      "100%|██████████| 25/25 [00:00<00:00, 47.46it/s]\n",
      " 20%|██        | 5/25 [00:00<00:00, 41.26it/s]"
     ]
    },
    {
     "name": "stdout",
     "output_type": "stream",
     "text": [
      "{'ner': 68.52662027920155}\n"
     ]
    },
    {
     "name": "stderr",
     "output_type": "stream",
     "text": [
      "100%|██████████| 25/25 [00:00<00:00, 47.23it/s]\n",
      " 20%|██        | 5/25 [00:00<00:00, 47.22it/s]"
     ]
    },
    {
     "name": "stdout",
     "output_type": "stream",
     "text": [
      "{'ner': 51.09654160468378}\n"
     ]
    },
    {
     "name": "stderr",
     "output_type": "stream",
     "text": [
      "100%|██████████| 25/25 [00:00<00:00, 46.00it/s]\n",
      " 20%|██        | 5/25 [00:00<00:00, 45.53it/s]"
     ]
    },
    {
     "name": "stdout",
     "output_type": "stream",
     "text": [
      "{'ner': 24.7281877953829}\n"
     ]
    },
    {
     "name": "stderr",
     "output_type": "stream",
     "text": [
      "100%|██████████| 25/25 [00:00<00:00, 53.22it/s]\n",
      " 20%|██        | 5/25 [00:00<00:00, 49.71it/s]"
     ]
    },
    {
     "name": "stdout",
     "output_type": "stream",
     "text": [
      "{'ner': 14.992759311154733}\n"
     ]
    },
    {
     "name": "stderr",
     "output_type": "stream",
     "text": [
      "100%|██████████| 25/25 [00:00<00:00, 51.69it/s]\n",
      " 20%|██        | 5/25 [00:00<00:00, 47.73it/s]"
     ]
    },
    {
     "name": "stdout",
     "output_type": "stream",
     "text": [
      "{'ner': 5.980349622018128}\n"
     ]
    },
    {
     "name": "stderr",
     "output_type": "stream",
     "text": [
      "100%|██████████| 25/25 [00:00<00:00, 56.95it/s]\n",
      " 24%|██▍       | 6/25 [00:00<00:00, 54.85it/s]"
     ]
    },
    {
     "name": "stdout",
     "output_type": "stream",
     "text": [
      "{'ner': 6.488296153933714}\n"
     ]
    },
    {
     "name": "stderr",
     "output_type": "stream",
     "text": [
      "100%|██████████| 25/25 [00:00<00:00, 50.81it/s]\n",
      " 24%|██▍       | 6/25 [00:00<00:00, 53.06it/s]"
     ]
    },
    {
     "name": "stdout",
     "output_type": "stream",
     "text": [
      "{'ner': 4.282708406719771}\n"
     ]
    },
    {
     "name": "stderr",
     "output_type": "stream",
     "text": [
      "100%|██████████| 25/25 [00:00<00:00, 57.49it/s]\n",
      " 24%|██▍       | 6/25 [00:00<00:00, 52.97it/s]"
     ]
    },
    {
     "name": "stdout",
     "output_type": "stream",
     "text": [
      "{'ner': 7.134040060385515}\n"
     ]
    },
    {
     "name": "stderr",
     "output_type": "stream",
     "text": [
      "100%|██████████| 25/25 [00:00<00:00, 53.64it/s]\n",
      " 28%|██▊       | 7/25 [00:00<00:00, 60.60it/s]"
     ]
    },
    {
     "name": "stdout",
     "output_type": "stream",
     "text": [
      "{'ner': 9.458330785991361}\n"
     ]
    },
    {
     "name": "stderr",
     "output_type": "stream",
     "text": [
      "100%|██████████| 25/25 [00:00<00:00, 53.70it/s]\n",
      " 20%|██        | 5/25 [00:00<00:00, 46.92it/s]"
     ]
    },
    {
     "name": "stdout",
     "output_type": "stream",
     "text": [
      "{'ner': 2.0785264369099297}\n"
     ]
    },
    {
     "name": "stderr",
     "output_type": "stream",
     "text": [
      "100%|██████████| 25/25 [00:00<00:00, 51.23it/s]\n",
      " 24%|██▍       | 6/25 [00:00<00:00, 57.24it/s]"
     ]
    },
    {
     "name": "stdout",
     "output_type": "stream",
     "text": [
      "{'ner': 7.6931411239384}\n"
     ]
    },
    {
     "name": "stderr",
     "output_type": "stream",
     "text": [
      "100%|██████████| 25/25 [00:00<00:00, 53.62it/s]\n",
      " 20%|██        | 5/25 [00:00<00:00, 46.57it/s]"
     ]
    },
    {
     "name": "stdout",
     "output_type": "stream",
     "text": [
      "{'ner': 4.6544218713325325}\n"
     ]
    },
    {
     "name": "stderr",
     "output_type": "stream",
     "text": [
      "100%|██████████| 25/25 [00:00<00:00, 56.36it/s]\n",
      " 24%|██▍       | 6/25 [00:00<00:00, 53.12it/s]"
     ]
    },
    {
     "name": "stdout",
     "output_type": "stream",
     "text": [
      "{'ner': 0.5129894092019779}\n"
     ]
    },
    {
     "name": "stderr",
     "output_type": "stream",
     "text": [
      "100%|██████████| 25/25 [00:00<00:00, 51.08it/s]\n",
      " 24%|██▍       | 6/25 [00:00<00:00, 58.60it/s]"
     ]
    },
    {
     "name": "stdout",
     "output_type": "stream",
     "text": [
      "{'ner': 2.0012985683633415}\n"
     ]
    },
    {
     "name": "stderr",
     "output_type": "stream",
     "text": [
      "100%|██████████| 25/25 [00:00<00:00, 58.54it/s]\n",
      " 24%|██▍       | 6/25 [00:00<00:00, 55.19it/s]"
     ]
    },
    {
     "name": "stdout",
     "output_type": "stream",
     "text": [
      "{'ner': 1.869376368748503}\n"
     ]
    },
    {
     "name": "stderr",
     "output_type": "stream",
     "text": [
      "100%|██████████| 25/25 [00:00<00:00, 50.00it/s]\n",
      " 24%|██▍       | 6/25 [00:00<00:00, 52.56it/s]"
     ]
    },
    {
     "name": "stdout",
     "output_type": "stream",
     "text": [
      "{'ner': 0.08026058263065489}\n"
     ]
    },
    {
     "name": "stderr",
     "output_type": "stream",
     "text": [
      "100%|██████████| 25/25 [00:00<00:00, 58.58it/s]\n",
      " 20%|██        | 5/25 [00:00<00:00, 49.27it/s]"
     ]
    },
    {
     "name": "stdout",
     "output_type": "stream",
     "text": [
      "{'ner': 2.8518249319734705}\n"
     ]
    },
    {
     "name": "stderr",
     "output_type": "stream",
     "text": [
      "100%|██████████| 25/25 [00:00<00:00, 51.18it/s]\n",
      " 24%|██▍       | 6/25 [00:00<00:00, 55.60it/s]"
     ]
    },
    {
     "name": "stdout",
     "output_type": "stream",
     "text": [
      "{'ner': 3.7201160322323434}\n"
     ]
    },
    {
     "name": "stderr",
     "output_type": "stream",
     "text": [
      "100%|██████████| 25/25 [00:00<00:00, 56.90it/s]\n",
      " 20%|██        | 5/25 [00:00<00:00, 49.99it/s]"
     ]
    },
    {
     "name": "stdout",
     "output_type": "stream",
     "text": [
      "{'ner': 0.015134397761576532}\n"
     ]
    },
    {
     "name": "stderr",
     "output_type": "stream",
     "text": [
      "100%|██████████| 25/25 [00:00<00:00, 50.18it/s]\n",
      " 20%|██        | 5/25 [00:00<00:00, 48.25it/s]"
     ]
    },
    {
     "name": "stdout",
     "output_type": "stream",
     "text": [
      "{'ner': 0.13602179904445388}\n"
     ]
    },
    {
     "name": "stderr",
     "output_type": "stream",
     "text": [
      "100%|██████████| 25/25 [00:00<00:00, 50.82it/s]\n",
      " 24%|██▍       | 6/25 [00:00<00:00, 55.31it/s]"
     ]
    },
    {
     "name": "stdout",
     "output_type": "stream",
     "text": [
      "{'ner': 0.0006765932862476857}\n"
     ]
    },
    {
     "name": "stderr",
     "output_type": "stream",
     "text": [
      "100%|██████████| 25/25 [00:00<00:00, 55.04it/s]\n",
      " 20%|██        | 5/25 [00:00<00:00, 45.18it/s]"
     ]
    },
    {
     "name": "stdout",
     "output_type": "stream",
     "text": [
      "{'ner': 0.0011800487861795645}\n"
     ]
    },
    {
     "name": "stderr",
     "output_type": "stream",
     "text": [
      "100%|██████████| 25/25 [00:00<00:00, 46.60it/s]\n",
      " 20%|██        | 5/25 [00:00<00:00, 48.20it/s]"
     ]
    },
    {
     "name": "stdout",
     "output_type": "stream",
     "text": [
      "{'ner': 0.04688635520564524}\n"
     ]
    },
    {
     "name": "stderr",
     "output_type": "stream",
     "text": [
      "100%|██████████| 25/25 [00:00<00:00, 43.71it/s]\n",
      " 24%|██▍       | 6/25 [00:00<00:00, 50.81it/s]"
     ]
    },
    {
     "name": "stdout",
     "output_type": "stream",
     "text": [
      "{'ner': 2.2316438842402957}\n"
     ]
    },
    {
     "name": "stderr",
     "output_type": "stream",
     "text": [
      "100%|██████████| 25/25 [00:00<00:00, 45.92it/s]\n",
      " 16%|█▌        | 4/25 [00:00<00:00, 38.58it/s]"
     ]
    },
    {
     "name": "stdout",
     "output_type": "stream",
     "text": [
      "{'ner': 3.4810815227463505e-06}\n"
     ]
    },
    {
     "name": "stderr",
     "output_type": "stream",
     "text": [
      "100%|██████████| 25/25 [00:00<00:00, 43.13it/s]\n",
      " 20%|██        | 5/25 [00:00<00:00, 46.45it/s]"
     ]
    },
    {
     "name": "stdout",
     "output_type": "stream",
     "text": [
      "{'ner': 0.26818970422365224}\n"
     ]
    },
    {
     "name": "stderr",
     "output_type": "stream",
     "text": [
      "100%|██████████| 25/25 [00:00<00:00, 40.00it/s]\n",
      " 20%|██        | 5/25 [00:00<00:00, 42.13it/s]"
     ]
    },
    {
     "name": "stdout",
     "output_type": "stream",
     "text": [
      "{'ner': 3.457604503924995e-05}\n"
     ]
    },
    {
     "name": "stderr",
     "output_type": "stream",
     "text": [
      "100%|██████████| 25/25 [00:00<00:00, 43.42it/s]\n",
      " 16%|█▌        | 4/25 [00:00<00:00, 39.00it/s]"
     ]
    },
    {
     "name": "stdout",
     "output_type": "stream",
     "text": [
      "{'ner': 0.0004088800945031982}\n"
     ]
    },
    {
     "name": "stderr",
     "output_type": "stream",
     "text": [
      "100%|██████████| 25/25 [00:00<00:00, 42.55it/s]\n",
      " 20%|██        | 5/25 [00:00<00:00, 42.21it/s]"
     ]
    },
    {
     "name": "stdout",
     "output_type": "stream",
     "text": [
      "{'ner': 0.007173444589810547}\n"
     ]
    },
    {
     "name": "stderr",
     "output_type": "stream",
     "text": [
      "100%|██████████| 25/25 [00:00<00:00, 41.92it/s]\n",
      " 20%|██        | 5/25 [00:00<00:00, 47.48it/s]"
     ]
    },
    {
     "name": "stdout",
     "output_type": "stream",
     "text": [
      "{'ner': 0.006270766049662259}\n"
     ]
    },
    {
     "name": "stderr",
     "output_type": "stream",
     "text": [
      "100%|██████████| 25/25 [00:00<00:00, 40.27it/s]\n",
      " 20%|██        | 5/25 [00:00<00:00, 40.01it/s]"
     ]
    },
    {
     "name": "stdout",
     "output_type": "stream",
     "text": [
      "{'ner': 0.005752202384525922}\n"
     ]
    },
    {
     "name": "stderr",
     "output_type": "stream",
     "text": [
      "100%|██████████| 25/25 [00:00<00:00, 40.39it/s]\n",
      " 16%|█▌        | 4/25 [00:00<00:00, 32.61it/s]"
     ]
    },
    {
     "name": "stdout",
     "output_type": "stream",
     "text": [
      "{'ner': 0.0004381204978310078}\n"
     ]
    },
    {
     "name": "stderr",
     "output_type": "stream",
     "text": [
      "100%|██████████| 25/25 [00:00<00:00, 39.59it/s]\n",
      " 20%|██        | 5/25 [00:00<00:00, 42.55it/s]"
     ]
    },
    {
     "name": "stdout",
     "output_type": "stream",
     "text": [
      "{'ner': 1.3834330066396932}\n"
     ]
    },
    {
     "name": "stderr",
     "output_type": "stream",
     "text": [
      "100%|██████████| 25/25 [00:00<00:00, 39.93it/s]\n",
      " 20%|██        | 5/25 [00:00<00:00, 43.61it/s]"
     ]
    },
    {
     "name": "stdout",
     "output_type": "stream",
     "text": [
      "{'ner': 0.03212908168616056}\n"
     ]
    },
    {
     "name": "stderr",
     "output_type": "stream",
     "text": [
      "100%|██████████| 25/25 [00:00<00:00, 41.70it/s]\n",
      " 20%|██        | 5/25 [00:00<00:00, 43.74it/s]"
     ]
    },
    {
     "name": "stdout",
     "output_type": "stream",
     "text": [
      "{'ner': 0.00810640983449841}\n"
     ]
    },
    {
     "name": "stderr",
     "output_type": "stream",
     "text": [
      "100%|██████████| 25/25 [00:00<00:00, 45.11it/s]\n",
      " 20%|██        | 5/25 [00:00<00:00, 40.81it/s]"
     ]
    },
    {
     "name": "stdout",
     "output_type": "stream",
     "text": [
      "{'ner': 0.0005723121845209103}\n"
     ]
    },
    {
     "name": "stderr",
     "output_type": "stream",
     "text": [
      "100%|██████████| 25/25 [00:00<00:00, 41.08it/s]\n",
      " 20%|██        | 5/25 [00:00<00:00, 46.87it/s]"
     ]
    },
    {
     "name": "stdout",
     "output_type": "stream",
     "text": [
      "{'ner': 0.0001777954051999923}\n"
     ]
    },
    {
     "name": "stderr",
     "output_type": "stream",
     "text": [
      "100%|██████████| 25/25 [00:00<00:00, 44.74it/s]\n",
      " 24%|██▍       | 6/25 [00:00<00:00, 55.70it/s]"
     ]
    },
    {
     "name": "stdout",
     "output_type": "stream",
     "text": [
      "{'ner': 0.004503109984440045}\n"
     ]
    },
    {
     "name": "stderr",
     "output_type": "stream",
     "text": [
      "100%|██████████| 25/25 [00:00<00:00, 51.49it/s]\n",
      " 20%|██        | 5/25 [00:00<00:00, 44.54it/s]"
     ]
    },
    {
     "name": "stdout",
     "output_type": "stream",
     "text": [
      "{'ner': 0.01615080469666449}\n"
     ]
    },
    {
     "name": "stderr",
     "output_type": "stream",
     "text": [
      "100%|██████████| 25/25 [00:00<00:00, 46.02it/s]\n",
      " 24%|██▍       | 6/25 [00:00<00:00, 56.14it/s]"
     ]
    },
    {
     "name": "stdout",
     "output_type": "stream",
     "text": [
      "{'ner': 0.011287421450088866}\n"
     ]
    },
    {
     "name": "stderr",
     "output_type": "stream",
     "text": [
      "100%|██████████| 25/25 [00:00<00:00, 51.60it/s]\n",
      " 16%|█▌        | 4/25 [00:00<00:00, 35.69it/s]"
     ]
    },
    {
     "name": "stdout",
     "output_type": "stream",
     "text": [
      "{'ner': 3.785808268708167}\n"
     ]
    },
    {
     "name": "stderr",
     "output_type": "stream",
     "text": [
      "100%|██████████| 25/25 [00:00<00:00, 42.32it/s]\n",
      " 16%|█▌        | 4/25 [00:00<00:00, 35.24it/s]"
     ]
    },
    {
     "name": "stdout",
     "output_type": "stream",
     "text": [
      "{'ner': 0.007893593082151457}\n"
     ]
    },
    {
     "name": "stderr",
     "output_type": "stream",
     "text": [
      "100%|██████████| 25/25 [00:00<00:00, 46.30it/s]\n",
      " 24%|██▍       | 6/25 [00:00<00:00, 54.49it/s]"
     ]
    },
    {
     "name": "stdout",
     "output_type": "stream",
     "text": [
      "{'ner': 0.0020377465103268546}\n"
     ]
    },
    {
     "name": "stderr",
     "output_type": "stream",
     "text": [
      "100%|██████████| 25/25 [00:00<00:00, 60.13it/s]\n",
      " 24%|██▍       | 6/25 [00:00<00:00, 58.70it/s]"
     ]
    },
    {
     "name": "stdout",
     "output_type": "stream",
     "text": [
      "{'ner': 3.915294586515863}\n"
     ]
    },
    {
     "name": "stderr",
     "output_type": "stream",
     "text": [
      "100%|██████████| 25/25 [00:00<00:00, 55.03it/s]\n",
      " 28%|██▊       | 7/25 [00:00<00:00, 64.10it/s]"
     ]
    },
    {
     "name": "stdout",
     "output_type": "stream",
     "text": [
      "{'ner': 0.002168768715153182}\n"
     ]
    },
    {
     "name": "stderr",
     "output_type": "stream",
     "text": [
      "100%|██████████| 25/25 [00:00<00:00, 62.06it/s]\n",
      " 24%|██▍       | 6/25 [00:00<00:00, 56.77it/s]"
     ]
    },
    {
     "name": "stdout",
     "output_type": "stream",
     "text": [
      "{'ner': 0.0006001029832110193}\n"
     ]
    },
    {
     "name": "stderr",
     "output_type": "stream",
     "text": [
      "100%|██████████| 25/25 [00:00<00:00, 51.27it/s]\n",
      " 24%|██▍       | 6/25 [00:00<00:00, 53.17it/s]"
     ]
    },
    {
     "name": "stdout",
     "output_type": "stream",
     "text": [
      "{'ner': 8.079536234599131e-08}\n"
     ]
    },
    {
     "name": "stderr",
     "output_type": "stream",
     "text": [
      "100%|██████████| 25/25 [00:00<00:00, 51.97it/s]\n",
      " 20%|██        | 5/25 [00:00<00:00, 42.77it/s]"
     ]
    },
    {
     "name": "stdout",
     "output_type": "stream",
     "text": [
      "{'ner': 2.3511003856820888e-05}\n"
     ]
    },
    {
     "name": "stderr",
     "output_type": "stream",
     "text": [
      "100%|██████████| 25/25 [00:00<00:00, 45.30it/s]\n",
      " 24%|██▍       | 6/25 [00:00<00:00, 59.63it/s]"
     ]
    },
    {
     "name": "stdout",
     "output_type": "stream",
     "text": [
      "{'ner': 0.00010667738527178986}\n"
     ]
    },
    {
     "name": "stderr",
     "output_type": "stream",
     "text": [
      "100%|██████████| 25/25 [00:00<00:00, 50.72it/s]\n",
      " 24%|██▍       | 6/25 [00:00<00:00, 57.77it/s]"
     ]
    },
    {
     "name": "stdout",
     "output_type": "stream",
     "text": [
      "{'ner': 7.054605202908344e-07}\n"
     ]
    },
    {
     "name": "stderr",
     "output_type": "stream",
     "text": [
      "100%|██████████| 25/25 [00:00<00:00, 58.24it/s]\n",
      " 20%|██        | 5/25 [00:00<00:00, 41.76it/s]"
     ]
    },
    {
     "name": "stdout",
     "output_type": "stream",
     "text": [
      "{'ner': 3.7049073129792535e-07}\n"
     ]
    },
    {
     "name": "stderr",
     "output_type": "stream",
     "text": [
      "100%|██████████| 25/25 [00:00<00:00, 50.58it/s]\n",
      " 28%|██▊       | 7/25 [00:00<00:00, 61.41it/s]"
     ]
    },
    {
     "name": "stdout",
     "output_type": "stream",
     "text": [
      "{'ner': 3.1449983682683442e-06}\n"
     ]
    },
    {
     "name": "stderr",
     "output_type": "stream",
     "text": [
      "100%|██████████| 25/25 [00:00<00:00, 56.83it/s]\n",
      " 20%|██        | 5/25 [00:00<00:00, 46.05it/s]"
     ]
    },
    {
     "name": "stdout",
     "output_type": "stream",
     "text": [
      "{'ner': 1.2211021373941141e-06}\n"
     ]
    },
    {
     "name": "stderr",
     "output_type": "stream",
     "text": [
      "100%|██████████| 25/25 [00:00<00:00, 53.74it/s]\n",
      " 24%|██▍       | 6/25 [00:00<00:00, 53.09it/s]"
     ]
    },
    {
     "name": "stdout",
     "output_type": "stream",
     "text": [
      "{'ner': 1.0176390521823088e-08}\n"
     ]
    },
    {
     "name": "stderr",
     "output_type": "stream",
     "text": [
      "100%|██████████| 25/25 [00:00<00:00, 49.59it/s]\n",
      " 20%|██        | 5/25 [00:00<00:00, 47.50it/s]"
     ]
    },
    {
     "name": "stdout",
     "output_type": "stream",
     "text": [
      "{'ner': 0.0002469661308558247}\n"
     ]
    },
    {
     "name": "stderr",
     "output_type": "stream",
     "text": [
      "100%|██████████| 25/25 [00:00<00:00, 42.77it/s]\n",
      " 16%|█▌        | 4/25 [00:00<00:00, 33.35it/s]"
     ]
    },
    {
     "name": "stdout",
     "output_type": "stream",
     "text": [
      "{'ner': 2.0965799430747986e-10}\n"
     ]
    },
    {
     "name": "stderr",
     "output_type": "stream",
     "text": [
      "100%|██████████| 25/25 [00:00<00:00, 38.69it/s]\n",
      " 20%|██        | 5/25 [00:00<00:00, 39.37it/s]"
     ]
    },
    {
     "name": "stdout",
     "output_type": "stream",
     "text": [
      "{'ner': 1.5392755668424815e-07}\n"
     ]
    },
    {
     "name": "stderr",
     "output_type": "stream",
     "text": [
      "100%|██████████| 25/25 [00:00<00:00, 33.44it/s]\n",
      " 16%|█▌        | 4/25 [00:00<00:00, 35.52it/s]"
     ]
    },
    {
     "name": "stdout",
     "output_type": "stream",
     "text": [
      "{'ner': 9.159237465835163e-08}\n"
     ]
    },
    {
     "name": "stderr",
     "output_type": "stream",
     "text": [
      "100%|██████████| 25/25 [00:00<00:00, 32.00it/s]\n",
      " 16%|█▌        | 4/25 [00:00<00:00, 34.93it/s]"
     ]
    },
    {
     "name": "stdout",
     "output_type": "stream",
     "text": [
      "{'ner': 7.207352861611169e-10}\n"
     ]
    },
    {
     "name": "stderr",
     "output_type": "stream",
     "text": [
      "100%|██████████| 25/25 [00:00<00:00, 31.36it/s]\n",
      " 12%|█▏        | 3/25 [00:00<00:00, 28.77it/s]"
     ]
    },
    {
     "name": "stdout",
     "output_type": "stream",
     "text": [
      "{'ner': 3.0731098161288594e-05}\n"
     ]
    },
    {
     "name": "stderr",
     "output_type": "stream",
     "text": [
      "100%|██████████| 25/25 [00:00<00:00, 28.55it/s]\n",
      " 12%|█▏        | 3/25 [00:00<00:00, 30.00it/s]"
     ]
    },
    {
     "name": "stdout",
     "output_type": "stream",
     "text": [
      "{'ner': 2.33931699022788e-09}\n"
     ]
    },
    {
     "name": "stderr",
     "output_type": "stream",
     "text": [
      "100%|██████████| 25/25 [00:00<00:00, 28.19it/s]\n",
      " 12%|█▏        | 3/25 [00:00<00:00, 27.01it/s]"
     ]
    },
    {
     "name": "stdout",
     "output_type": "stream",
     "text": [
      "{'ner': 2.4796648396576003e-09}\n"
     ]
    },
    {
     "name": "stderr",
     "output_type": "stream",
     "text": [
      " 40%|████      | 10/25 [00:00<00:00, 28.68it/s]"
     ]
    }
   ],
   "source": [
    "for _, annotations in TRAIN_DATA:\n",
    "    for ent in annotations.get('entities'):\n",
    "        ner.add_label(ent[2])\n",
    "\n",
    "other_pipes = [pipe for pipe in nlp.pipe_names if pipe != 'ner']\n",
    "with nlp.disable_pipes(*other_pipes):  # only train NER\n",
    "    optimizer = nlp.begin_training()\n",
    "    for itn in range(n_iter):\n",
    "        random.shuffle(TRAIN_DATA)\n",
    "        losses = {}\n",
    "        for text, annotations in tqdm(TRAIN_DATA):\n",
    "            nlp.update(\n",
    "                [text],  \n",
    "                [annotations],  \n",
    "                drop=0.5,  \n",
    "                sgd=optimizer,\n",
    "                losses=losses)\n",
    "        print(losses)"
   ]
  },
  {
   "cell_type": "code",
   "execution_count": null,
   "metadata": {},
   "outputs": [],
   "source": [
    "\n",
    "for text, _ in TRAIN_DATA:\n",
    "    doc = nlp(text)\n",
    "    print('Entities', [(ent.text, ent.label_) for ent in doc.ents])"
   ]
  },
  {
   "cell_type": "code",
   "execution_count": null,
   "metadata": {},
   "outputs": [],
   "source": [
    "\n",
    "if output_dir is not None:\n",
    "    output_dir = Path(output_dir)\n",
    "    if not output_dir.exists():\n",
    "        output_dir.mkdir()\n",
    "    nlp.to_disk(output_dir)\n",
    "    print(\"Saved model to\", output_dir)"
   ]
  },
  {
   "cell_type": "code",
   "execution_count": null,
   "metadata": {},
   "outputs": [],
   "source": [
    "with open('/Users/Nagarwa/Downloads/IMG_20200921_192526/rawText.txt', 'r') as file:\n",
    "    data = file.read()"
   ]
  },
  {
   "cell_type": "code",
   "execution_count": null,
   "metadata": {},
   "outputs": [],
   "source": [
    "   "
   ]
  },
  {
   "cell_type": "code",
   "execution_count": null,
   "metadata": {},
   "outputs": [],
   "source": [
    "print(\"Loading from\", output_dir)\n",
    "for line in data.splitlines():\n",
    "    doc = nlp(line)\n",
    "    for ent in doc.ents:\n",
    "        print(ent.label_, ent.text)"
   ]
  },
  {
   "cell_type": "code",
   "execution_count": null,
   "metadata": {},
   "outputs": [],
   "source": []
  }
 ],
 "metadata": {
  "kernelspec": {
   "display_name": "Python 3",
   "language": "python",
   "name": "python3"
  },
  "language_info": {
   "codemirror_mode": {
    "name": "ipython",
    "version": 3
   },
   "file_extension": ".py",
   "mimetype": "text/x-python",
   "name": "python",
   "nbconvert_exporter": "python",
   "pygments_lexer": "ipython3",
   "version": "3.7.7"
  }
 },
 "nbformat": 4,
 "nbformat_minor": 4
}
