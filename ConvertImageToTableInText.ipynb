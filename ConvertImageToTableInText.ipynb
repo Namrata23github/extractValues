{
 "cells": [
  {
   "cell_type": "code",
   "execution_count": null,
   "metadata": {},
   "outputs": [],
   "source": [
    "import os, fnmatch\n",
    "import base64\n",
    "import requests\n",
    "import json\n"
   ]
  },
  {
   "cell_type": "code",
   "execution_count": null,
   "metadata": {},
   "outputs": [],
   "source": [
    "trainingImages = fnmatch.filter(os.listdir('/Users/Nagarwa/AI/NLP/traindata/training_set/Fidelity'), '*.jpg')"
   ]
  },
  {
   "cell_type": "code",
   "execution_count": null,
   "metadata": {},
   "outputs": [],
   "source": [
    "def writeFile(rowString):\n",
    "    file1 = open(\"/Users/Nagarwa/AI/NLP/ExtractValuesUsingSpacy/rawText.txt\", \"a\")\n",
    "    file1.write(rowString) \n",
    "    file1.write(\"\\n\") "
   ]
  },
  {
   "cell_type": "code",
   "execution_count": null,
   "metadata": {},
   "outputs": [],
   "source": [
    "def getTableDataFromApi(encoded_string):\n",
    "    url = ''\n",
    "    myobj = {\"data\": encoded_string,  \"mime\": \"image/jpg\", \"filename\": \"test.jpg\"}\n",
    "#     with open('/Users/Nagarwa/AI/NLP/ExtractValuesUsingSpacy/response.json') as f:\n",
    "#         json_response = json.load(f)    \n",
    "    json_response = json.loads(requests.post(url,  json = myobj).text)\n",
    "    for key in json_response:\n",
    "        rowString = \"\";\n",
    "        for key1 in json_response[key]:\n",
    "            rowString = rowString + json_response[key][key1] + '\\t'\n",
    "        writeFile(rowString)\n",
    "            \n",
    "            \n",
    "    \n",
    "\n"
   ]
  },
  {
   "cell_type": "code",
   "execution_count": null,
   "metadata": {},
   "outputs": [],
   "source": [
    "for filename in trainingImages:\n",
    "    print(filename)\n",
    "    locationOfFileName = \"/Users/Nagarwa/AI/NLP/traindata/training_set/Fidelity/\" + filename\n",
    "    with open(locationOfFileName, \"rb\") as image_file:\n",
    "        encoded_string = str(base64.b64encode(image_file.read()))\n",
    "        encoded_string = encoded_string[2:]\n",
    "        encoded_string = encoded_string[:-1]\n",
    "        getTableDataFromApi(encoded_string)\n",
    "        \n",
    "# getTableDataFromApi(encoded_string)"
   ]
  },
  {
   "cell_type": "code",
   "execution_count": null,
   "metadata": {},
   "outputs": [],
   "source": []
  },
  {
   "cell_type": "code",
   "execution_count": null,
   "metadata": {},
   "outputs": [],
   "source": [
    "\n",
    "        \n"
   ]
  },
  {
   "cell_type": "code",
   "execution_count": null,
   "metadata": {},
   "outputs": [],
   "source": []
  }
 ],
 "metadata": {
  "kernelspec": {
   "display_name": "Python 3",
   "language": "python",
   "name": "python3"
  },
  "language_info": {
   "codemirror_mode": {
    "name": "ipython",
    "version": 3
   },
   "file_extension": ".py",
   "mimetype": "text/x-python",
   "name": "python",
   "nbconvert_exporter": "python",
   "pygments_lexer": "ipython3",
   "version": "3.7.7"
  }
 },
 "nbformat": 4,
 "nbformat_minor": 4
}
