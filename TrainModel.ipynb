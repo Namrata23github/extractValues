{
 "cells": [
  {
   "cell_type": "code",
   "execution_count": null,
   "metadata": {},
   "outputs": [],
   "source": []
  },
  {
   "cell_type": "code",
   "execution_count": 4,
   "metadata": {},
   "outputs": [],
   "source": [
    "from __future__ import unicode_literals, print_function\n",
    "import plac\n",
    "import random\n",
    "from pathlib import Path\n",
    "import spacy\n",
    "from tqdm import tqdm"
   ]
  },
  {
   "cell_type": "code",
   "execution_count": null,
   "metadata": {},
   "outputs": [],
   "source": []
  },
  {
   "cell_type": "code",
   "execution_count": 5,
   "metadata": {},
   "outputs": [],
   "source": [
    "TRAIN_DATA = [('Equity ETPs\\t7.000\\t$327.8200\\t$2294.74\\t$1998.42\\t', {'entities': [(12, 17, 'Quantity')]}), ('ISHARES S&P 500(IVV)\\t37.000\\t24.4900\\t906.13\\t973.66\\t', {'entities': [(16, 19, 'Ticker'), (21, 27, 'Quantity')]}), ('SCHWAB FUNDAMENTAL EM L/C(FNDE) VANGUARD TAX-MANAGED FDS FTSE DEV\\t34.000\\t39.8100\\t1353.54\\t1274.05\\t', {'entities': [(26, 30, 'Ticker'), (66, 72, 'Quantity')]}), ('MKT ETF (VEA)\\t\\t\\t4554.41\\t4246.13\\t', {'entities': [(9, 12, 'Ticker')]}), ('Fixed Income ETPs SCHWAB STRATEGIC TR INTERMEDIATE-TERM US\\t40.000\\t$58.9600\\t$2358.40\\t$2333.21 1236.03\\t', {'entities': [(59, 65, 'Quantity')]}), ('TREASURY ETF (SCHR)\\t23.000\\t61.3700\\t1411.51\\t\\t', {'entities': [(14, 18, 'Ticker'), (20, 26, 'Quantity')]}), ('VANGUARD BD INDEX FDS SHORT TRM (SCHP)\\t28.000\\t83.3000\\t2332.40\\t2238.09 6006.27\\t', {'entities': [(33, 37, 'Ticker'), (39, 45, 'Quantity')]}), ('BOND (BSV) VANGUARD BD INDEX FDS TOTAL BND\\t73.000\\t89.4600\\t6530.58\\t\\t', {'entities': [(6, 9, 'Ticker'), (43, 49, 'Quantity')]}), ('MRKT (BND) Fixed Income ETPs(27% of account holdings)\\t\\t\\t( 12632.89\\t11813.60\\t', {'entities': [(6, 9, 'Ticker')]}), ('Description Equity ETPs (continued) VANGUARD INDEX FDS VANGUARD SMALL CAP VALUE VIPERS FORMERLY VANGUARD\\t14.695\\t110.4400\\t1622.91\\t1774.09 3239.93\\t', {'entities': [(105, 111, 'Quantity')]}), ('VANGUARD INDEX FDS VANGUARD MID CAP INDEX TR (VBR) VIPERS FORMERLY VANGUARD INDEX TR\\t21.778\\t174.2900\\t3795.68\\t3232.25\\t', {'entities': [(46, 49, 'Ticker'), (85, 91, 'Quantity')]}), ('VANGUARD INDEX FDS VANGUARD VALUE (VO) . TR\\t30.931\\t103.3100\\t3195.48\\t11360.7\\t', {'entities': [(35, 37, 'Ticker'), (44, 50, 'Quantity')]}), ('ETF FORMERLY VANGUARD INDEX (VTV) VANGUARD INDEX FDS VANGUARD TOTAL STK\\t86.133\\t165.5200\\t14256.73\\t\\t', {'entities': [(29, 32, 'Ticker'), (72, 78, 'Quantity')]}), ('MKT ETF (VTI) Total Equity ETPs (94% of account holdings) Fixed Income ETPs VANGUARD BD INDEX FDS TOTAL BND MRKT (BND)\\t17.265\\t$89.4600\\t52293.97 ( $1544.52\\t51326 $143\\t', {'entities': [(9, 12, 'Ticker'), (104, 107, 'Ticker'), (119, 125, 'Quantity')]}), ('Equity ETPs\\t80.000\\t$29.6500\\t$2372.00\\t$2501.98 1497.49\\t', {'entities': [(12, 18, 'Quantity')]}), ('DBX ETF TR XTRACK MSCI EAFE (DBEF)\\t49.000\\t24.8700\\t1218.63\\t\\t', {'entities': [(29, 33, 'Ticker'), (35, 41, 'Quantity')]}), ('GLOBAL x FDS GLB x MLP ENRG I(MLPX)\\t\\t60.2600\\t1506.50\\t1244.45\\t', {'entities': [(30, 34, 'Ticker')]}), ('ISHARES MSCI SOUTH KOREA TF(EWY)\\t25.000\\t28.2500\\t2147.00\\t1919.56\\t', {'entities': [(28, 31, 'Ticker'), (33, 39, 'Quantity')]}), ('ISHARES INC MSCI GERMANY ETF (EWG)\\t76.000 10.000\\t71.3000\\t713.00\\t591.37\\t', {'entities': [(30, 33, 'Ticker'), (35, 41, 'Quantity')]}), ('ISHARES GLOBAL HEALTHCARE ETF(IXJ)\\t\\t18.8200\\t959.82\\t756.00\\t', {'entities': [(30, 33, 'Ticker')]}), ('ISHARES GLOBAL ENERGY TF(IXC)\\t51.000 116.000\\t39.8900\\t4627.24\\t6016.75\\t', {'entities': [(25, 28, 'Ticker'), (30, 36, 'Quantity')]}), ('ISHARES TR EAFE VALUE ETF(EFV)\\t132.000\\t25.9300\\t3422.76\\t4470.83\\t', {'entities': [(26, 29, 'Ticker')]}), ('ISHARES TR MSCI UK ETF NEW(EWU)\\t87.000\\t22.6100\\t1967.07\\t1989.29\\t', {'entities': [(27, 30, 'Ticker'), (32, 38, 'Quantity')]}), ('J P MORGAN EXCHANGE-TRADED FD BETBULD JAPAN (BBJP)\\t\\t27.6900\\t1024.53\\t1048.28\\t', {'entities': [(45, 49, 'Ticker')]}), ('SPDR PORTFOLIO S&P 600 SMALL CAP ETF (SPSM)\\t37.000\\t24.4900\\t1812.26\\t2124.22\\t', {'entities': [(38, 42, 'Ticker'), (44, 50, 'Quantity')]}), ('SCHWAB FUNDAMENTAL EM L/C(FNDE) VANECK VECTORS ETF TR MORNINGSTAR WIDE (MOAT)\\t74.000 14.000\\t53.5600 39.8100\\t749.84 3622.71\\t592.33 4012.26\\t', {'entities': [(26, 30, 'Ticker'), (72, 76, 'Ticker'), (78, 84, 'Ticker'), (85, 91, 'Quantity')]}), ('VANGUARD TAX-MANAGED FDS FTSE DEV\\t91.000\\t.\\t\\t1569.23\\t', {'entities': [(34, 40, 'Quantity')]}), ('MKT ETF (VEA) /ANGUARD WORLD FDS VANGUARD CONSUMER STAPLES ETF (VDC)\\t11.000\\t159.9000 58.9100\\t1758.90 1354.93\\t1240.62\\t', {'entities': [(9, 12, 'Ticker'), (64, 67, 'Ticker'), (69, 75, 'Quantity')]}), ('ANGUARD SECTOR INDEX FDS VANGUARD\\t23.000\\t\\t\\t\\t', {'entities': [(34, 40, 'Quantity')]}), ('Description Equity ETPs (continued) VANGUARD INDEX FDS VANGUARD SMALL CAP VIPERS FORMERLY VANGUARD\\t65.000\\t110.4400\\t7178.60\\t8228.00\\t', {'entities': [(99, 105, 'Quantity')]}), ('VALUE VANGUARD INDEX FDS VANGUARD MID CAP INDEX TR (VBR) VIPERS FORMERLY VANGUARD INDEX TR\\t100.000\\t174.2900\\t17429.00\\t15718.56 12505.26\\t', {'entities': [(52, 55, 'Ticker'), (91, 98, 'Quantity')]}), ('VANGUARD (VO) INDEX FDS VANGUARD VALUE\\t126.000\\t103.3100\\t13017.06\\t53323.07\\t', {'entities': [(10, 12, 'Ticker'), (39, 46, 'Quantity')]}), ('ETF FORMERLY VANGUARD INDEX TR (VTV) VANGUARD INDEX FDS VANGUARD TOTAL STK\\t375.000\\t165.5200\\t62070.00 (\\t\\t', {'entities': [(32, 35, 'Ticker'), (75, 82, 'Quantity')]}), ('MKT ETF (VTI) Total Equity ETPs (60% of account holdings) Fixed Income ETPs\\t63.000\\t$113.0900\\t227087.57 $7124.67\\t221000.97 $6622.76\\t', {'entities': [(9, 12, 'Ticker'), (76, 82, 'Quantity')]}), ('ISHARES TR JP MOR EM MK ETF (EMB) ISHARES TR BROAD USD HIGH(USHY)\\t238.000\\t40.0300\\t9527.14\\t9015.22 7129.35\\t', {'entities': [(29, 32, 'Ticker'), (60, 64, 'Ticker'), (66, 73, 'Quantity')]}), ('SCHWAB STRATEGIC TR US TIPS ETF\\t129.000\\t61.3700\\t7916.73\\t\\t', {'entities': [(32, 39, 'Quantity')]}), ('(SCHP) VANECK VECTORS ETF TR JP MORGAN MKTS (EMLC)\\t121.000\\t31.5800\\t3821.18\\t3786.13 14703.21\\t', {'entities': [(45, 49, 'Ticker'), (51, 58, 'Quantity')]}), ('VANGUARD BD INDEX FDS SHORT TRM BOND (BSV)\\t184.000\\t83.3000\\t15327.20\\ta\\t', {'entities': [(38, 41, 'Ticker'), (43, 50, 'Quantity')]}), ('VANGUARD BD INDEX FDS TOTAL BND MRKT (BND)\\t741.000\\t89.4600\\t66289.86\\t60332.77\\t', {'entities': [(28, 31, 'Ticker'), (43, 50, 'Quantity')]}), ('VANGUARD SCOTTSDALE FDS INTER TERM TREAS (VGIT)\\t272.000\\t70.8200\\t19263.04\\t18094.45\\t', {'entities': [(42, 46, 'Ticker'), (48, 55, 'Quantity')]}), ('VANGUARD SCOTTSDALE FDS VANGUARD MTG-BACKED SECS IDX FD ETF (VMBS)\\t95.000\\t54.4100\\t5168.95\\t5073.63\\t', {'entities': [(61, 65, 'Ticker'), (67, 73, 'Quantity')]}), ('VANGUARD SCOTTSDALE FDS INTERMEDIATE TERM CORPORATE BOND INDEX (VCIT)\\t115.000\\t96.8300\\t11135.45\\t10443.02\\t', {'entities': [(64, 68, 'Ticker'), (70, 77, 'Quantity')]}), ('DBX ETF TR XTRCKR MSCI US (USSG)\\t91.000\\t$29.5800\\t$2691.78\\t$2396.03\\t$295.75\\t$41.68\\t1.550%\\t', {'entities': [(27, 31, 'Ticker'), (33, 39, 'Quantity')]}), ('ISHARES TR ESG AWRE 1 5 YR(SUSB)\\t188.000\\t$26.1700\\t$4919.96\\t$4810.92\\t$109.04\\t$118.87\\t2.420%\\t', {'entities': [(27, 31, 'Ticker'), (33, 40, 'Quantity')]}), ('ISHARES TR ESG AWR US AGRGT(EAGG)\\t286.000\\t57.2000\\t16359.20\\t15986.63\\t372.57\\t348.40\\t2.130\\t', {'entities': [(28, 32, 'Ticker'), (34, 41, 'Quantity')]}), ('SCHWAB STRATEGIC TR SHORT-TERM US TREASURY ETF (SCHO)\\t155.000\\t51.6300\\t8002.65\\t8010.23\\t-7.58\\t142.51\\t1.780\\t', {'entities': [(48, 52, 'Ticker'), (54, 61, 'Quantity')]}), ('SCHWAB STRATEGIC TR US TIPS ETF (SCHP)\\t95.000\\t61.3700\\t5830.15\\t5625.90\\t204.25\\t-\\t- 1.850\\t', {'entities': [(33, 37, 'Ticker'), (39, 45, 'Quantity')]}), ('VANGUARD SCOTTSDALE FDS LONG TERM TREAS (VGLT)\\t16.000\\t104.1400\\t1666.24\\t1627.12\\t39.12\\t30.83\\t\\t', {'entities': [(41, 45, 'Ticker'), (47, 53, 'Quantity')]}), ('Bond Funds (continued) TIAA-CREF CORE IMPACT BOND INSTL (TSBIX)\\t1652.285\\t11.0800\\t18307.31\\t17647.11\\t660.20\\t431.06\\t2.350\\t', {'entities': [(57, 62, 'Ticker'), (64, 72, 'Quantity')]}), ('ISHARES MSCI SOUTH KOREA ETF(EWY)\\t33.000\\t$60.2600\\t$1988.58\\t$1515.02\\t$473.56\\t', {'entities': [(29, 32, 'Ticker'), (34, 40, 'Quantity')]}), ('ISHARES S&P 500(IVV)\\t14.483\\t327.8200\\t4747.81\\t4017.78\\t730.03\\t', {'entities': [(16, 19, 'Ticker'), (21, 27, 'Quantity')]}), ('ISHARES GLOBAL ENERGY ETF(IXC)\\t88.664\\t18.8200\\t1668.65\\t1421.77\\t246.88\\t', {'entities': [(26, 29, 'Ticker'), (31, 37, 'Quantity')]}), ('ISHARES TR MSCI UK ETF NEW(EWU)\\t104.482\\t25.9300\\t2709.21\\t3012.61\\t-303.40\\t', {'entities': [(27, 30, 'Ticker'), (32, 39, 'Quantity')]}), ('J P MORGAN EXCHANGE-TRADED FD BETBULD JAPAN (BBJP)\\t80.489\\t22.6100\\t1819.85\\t1673.90\\t145.95\\t', {'entities': [(45, 49, 'Ticker'), (51, 57, 'Quantity')]}), ('SCHWAB FUNDAMENTAL EM L/C(FNDE)\\t74.970\\t24.4900\\t1836.01\\t1980.05\\t-144.04\\t', {'entities': [(26, 30, 'Ticker'), (32, 38, 'Quantity')]}), ('VANGUARD TAX-MANAGED FDS FTSE DEV MKT ETF (VEA)\\t72.923\\t39.8100\\t2903.06\\t2771.11\\t131.95\\t', {'entities': [(43, 46, 'Ticker'), (48, 54, 'Quantity')]}), ('VANGUARD SECTOR INDEX FDS VANGUARD FINLS VIPERS (VFH)\\t31.223\\t58.9100\\t1839.34\\t1672.74\\t166.60\\t', {'entities': [(49, 52, 'Ticker'), (54, 60, 'Quantity')]}), ('VANGUARD INDEX FDS VANGUARD MID CAP VIPERS FORMERLY VANGUARD INDEX TR (VO)\\t16.474\\t174.2900\\t2871.25 (\\t2410.80\\t460.45\\t', {'entities': [(71, 73, 'Ticker'), (75, 81, 'Quantity')]}), ('SCHWAB STRATEGIC TR INTERMEDIATE-TERM US TREASURY ETF (SCHR)\\t47.239\\tA $58.9600\\t$2785.21\\t$2742.45\\t$42.76\\t', {'entities': [(55, 59, 'Ticker'), (61, 67, 'Quantity')]}), ('SCHWAB STRATEGIC TR US TIPS ETF (SCHP)\\t28.738\\t61.3700\\t1763.65\\t1593.01\\t170.64\\t', {'entities': [(33, 37, 'Ticker'), (39, 45, 'Quantity')]}), ('VANGUARD BD INDEX FDS SHORT TRM BOND (BSV)\\t20.328\\t83.3000\\t1693.32\\t1616.65\\t76.67\\t', {'entities': [(38, 41, 'Ticker'), (43, 49, 'Quantity')]}), ('VANGUARD BD INDEX FDS TOTAL BND MRKT (BND)\\t103.906\\t89.4600\\t9295.43\\t8430.61\\t864.82\\t', {'entities': [(28, 31, 'Ticker'), (43, 50, 'Quantity')]}), ('ALPHABET INC CAP STK CL C(GOOG)\\t3.000 8.000\\t1487.9500\\t11903.60\\t8914.62\\t', {'entities': [(26, 30, 'Ticker'), (32, 37, 'Quantity')]}), ('ALPHABET INC CAP STK CL A(GOOGL)\\t2.000\\t3164.6800\\t6329.36\\t3259.32\\t', {'entities': [(26, 31, 'Ticker'), (33, 38, 'Quantity')]}), ('AMAZON.COM INC (AMZN) AMERISOURCEBERGEN CORPORATION COM\\t53.000\\t100.1900\\t5310.07\\t4627.96\\t', {'entities': [(16, 20, 'Ticker'), (56, 62, 'Quantity')]}), ('USD0.01 (ABC)\\t14.000\\t273.8000\\t3833.20\\t3614.92\\t', {'entities': [(9, 12, 'Ticker'), (14, 20, 'Quantity')]}), ('ANTHEM INC (ANTM)\\t\\t1662.1300\\t4986.39\\t5408.17\\t', {'entities': [(12, 16, 'Ticker'), (19, 28, 'Quantity')]}), ('BOOKING HOLDINGS INC COM(BKNG)\\t3.000\\t96.9700\\t3296.98\\t2393.60\\t', {'entities': [(25, 29, 'Ticker'), (31, 36, 'Quantity')]}), ('CARMAX INC (KMX) WALT DISNEY co (DIS)\\t34.000 8.000\\t116.9400\\t935.52\\t1068.31 5339.44\\t', {'entities': [(22, 25, 'Ticker'), (12, 15, 'Ticker'), (38, 44, 'Quantity'), (45, 50, 'Quantity')]}), ('SEDOL #2466149 (ENB) FACEBOOK INC-CLASS A(FB)\\t33.000\\t253.6700\\t6 8371.11\\t4960.34 6344.42\\t', {'entities': [(0, 3, 'Ticker'), (42, 44, 'Ticker'), (46, 52, 'Quantity'), (53, 61, 'Quantity')]}), ('IQVIA HLDGS INC COM(IQV)\\t53.000\\t158.3900\\t8394.67\\t\\t', {'entities': [(0, 3, 'Ticker'), (25, 31, 'Quantity')]}), ('LOWES COMPANIES INC COM USD0.50 (LOW)\\t\\t148.9100\\t7743.32\\t5167.02 2666.81\\t', {'entities': [(0, 3, 'Ticker'), (39, 47, 'Quantity')]}), ('LYFT INC CL A COM (LYFT)\\t57.000\\t29.2300\\t1666.11\\t10405.22\\t', {'entities': [(0, 4, 'Ticker'), (25, 31, 'Quantity')]}), ('MASTERCARD INCORPORATED CL A(MA)\\t52.000\\t308.5300\\t16043.56\\t5194.56\\t', {'entities': [(0, 2, 'Ticker'), (33, 39, 'Quantity')]}), ('MICROSOFT CORP (MSFT)\\t50.000\\t205.0100\\t10250.50\\t\\t', {'entities': [(16, 20, 'Ticker'), (22, 28, 'Quantity')]}), ('TENCENT HOLDINGS LIMITED UNSPON ADR (TCEHY)\\t66.000\\t68.9010\\t4547.46\\t2282.28\\t', {'entities': [(37, 42, 'Ticker'), (44, 50, 'Quantity')]}), ('UBER TECHNOLOGIES INC COM(UBER)\\t77.000\\t30.2600\\t2330.02\\t2501.16 3436.3)\\t', {'entities': [(0, 4, 'Ticker'), (32, 38, 'Quantity')]}), ('UNITEDHEALTH GROUP INC(UNH)\\t13.000\\t302.7800\\t3936.14\\t4130.2\\t', {'entities': [(23, 26, 'Ticker'), (28, 34, 'Quantity')]}), ('VISA INC (V)\\t30.000\\t190.4000\\t5712.00\\t\\t', {'entities': [(0, 1, 'Ticker'), (13, 19, 'Quantity')]}), ('Description FIDELITY GOVERNMENT CASH RESERVES (FDRXX) -day yield: 0.01%\\tQuantity 1594.840\\tPer Unit $1.0000\\tMarket Value $1594.84\\tCost not applicable\\tGain/Loss not applicable\\tIncome (EAI) $17.73\\t(EY) 1.110%\\t', {'entities': [(47, 52, 'Ticker'), (81, 89, 'Quantity')]}), ('Stock Funds CALVERT US LRG CAP VAL RESPONS INDEX 1(CFJIX)\\t81.466\\t$22.4100\\t$1825.65\\t$1600.00\\t$225.65\\t$31.99\\t1.750%\\t', {'entities': [(51, 56, 'Ticker'), (58, 64, 'Quantity')]}), ('DFA INTERNATIONAL SUSTAIN CORE 1 PORT (DFSPX)\\t459.580\\t10.0500\\t4618.77 4\\t4028.79\\t589.98\\t86.53\\t1.870\\t', {'entities': [(39, 44, 'Ticker'), (46, 53, 'Quantity')]}), ('DOMINI IMPACT INTL EQUITY INSTITUTIONAL (DOMOX)\\t248.586\\t7.2300\\t1797.27\\t1561.12\\t236.15\\t-\\t-\\t', {'entities': [(41, 46, 'Ticker'), (48, 55, 'Quantity')]}), ('MORNINGSTAR UNCONSTRAINED ALLOC (MSTSX)\\t266.075\\t10.0600\\t2676.71\\t2400.00\\t276.71\\t56.62\\t2.120\\t', {'entities': [(33, 38, 'Ticker'), (40, 47, 'Quantity')]}), ('MORNINGSTAR ALTERNATIVES INSTL (MSTVX)\\t1240.157\\t10.5400\\t13071.25\\t12600.00\\t471.25\\t179.09\\t1.370\\t', {'entities': [(32, 37, 'Ticker'), (39, 47, 'Quantity')]}), ('PARNASSUS MID CAP FD INSTITUTIONAL (PFPMX)\\t54.164\\t34.9200\\t1891.40\\t1600.00\\t291.40\\t13.86\\t0.730\\t', {'entities': [(36, 41, 'Ticker'), (43, 49, 'Quantity')]}), ('PARNASSUS CORE EQUITY INSTL(PRILX)\\t57.012\\t49.0900\\t2798.71\\t2405.21\\t393.50\\t25.92\\t0.930\\t', {'entities': [(28, 33, 'Ticker'), (35, 41, 'Quantity')]}), ('RBC EMERGING MARKETS EQUITY FD CL I (REEIX)\\t156.556\\t12.2400\\t1916.24\\t1600.00\\t316.24\\t59.18\\t3.090\\t', {'entities': [(37, 42, 'Ticker'), (44, 51, 'Quantity')]}), ('AMERICAN BEACON GL EV FRNT MRKT INC Y (AGEYX)\\t536.966\\t$8.2000\\t$4403.12\\t$4056.77\\t$346.35\\t$380.17\\t8.630%\\t', {'entities': [(39, 44, 'Ticker'), (46, 53, 'Quantity')]}), ('CALVERT HIGH YIELD BOND CLASS (CYBIX)\\t65.477\\t26.4600\\t1732.52\\t1609.10\\t123.42\\t84.40\\t4.870\\t', {'entities': [(31, 36, 'Ticker'), (38, 44, 'Quantity')]}), ('COMMUNITY CAPITAL TRUST INSTL (CRANX)\\t370.072\\t10.9000\\t4033.78\\t4015.29\\t18.49\\t100.76\\t2.500\\t', {'entities': [(31, 36, 'Ticker'), (38, 45, 'Quantity')]}), ('MORNINGSTAR DEFENSIVE BOND INSTL (MSTBX)\\t452.233\\t10.3100\\t4662.52\\t4612.86\\t49.66\\t101.99\\t2.190\\t', {'entities': [(34, 39, 'Ticker'), (41, 48, 'Quantity')]}), ('ISHARES GLOBAL ENERGY ETF(IXC)\\t31.000\\t$18.8200\\t$583.42 $4\\t', {'entities': [(26, 29, 'Ticker'), (31, 37, 'Quantity')]}), ('ISHARES TR EAFE ETF(EFV)\\t22.000\\t39.8900\\t877.58 7\\t', {'entities': [(20, 23, 'Ticker'), (25, 31, 'Quantity')]}), ('ISHARES TR MSCI UK ETF NEW (EWU)\\t25.000\\t25.9300\\t648.25 5\\t', {'entities': [(28, 31, 'Ticker'), (33, 39, 'Quantity')]}), ('J P MORGAN EXCHANGE-TRADED FD BETBULD JAPAN (BBJP)\\t29.000\\t22.6100\\t655.69 5\\t', {'entities': [(45, 49, 'Ticker'), (51, 57, 'Quantity')]}), ('SCHWAB STRATEGIC TR US MID-CAP ETF (SCHM)\\t23.000\\t55.3000\\t1271.90 1\\t', {'entities': [(36, 40, 'Ticker'), (42, 48, 'Quantity')]}), ('SCHWAB FUNDAMENTAL EM L/C(FNDE)\\t28.000\\t24.4900\\t685.72 1\\t', {'entities': [(26, 30, 'Ticker'), (32, 38, 'Quantity')]}), ('MKT ETF (VEA) VANGUARD INTL EQUITY INDEX FDS FTSE EMR\\t17.000 .\\t43.0100\\t731.17 1\\t', {'entities': [(9, 12, 'Ticker'), (54, 60, 'Quantity')]}), ('MKT ETF (VWO) VANGUARD INDEX FDS VANGUARD VALUE INDEX TR (VTV)\\t15.000\\t103.3100\\t1549.65 4138.00 3\\t', {'entities': [(9, 12, 'Ticker'), (58, 61, 'Ticker'), (63, 69, 'Quantity'), (70, 78, 'Quantity')]}), ('MKT ETF (VTI) Total Equity ETPs (20% of account holdings) Fixed Income ETPs JP MOR EM MK ETF (EMB)\\t21.000\\t$113.0900\\t12733.78 10 $2374.89 $2\\t', {'entities': [(9, 12, 'Ticker'), (94, 97, 'Ticker'), (99, 105, 'Quantity')]}), ('ISHARES MSCI SOUTH KOREA TF(EWY)\\t53.000\\t$60.2600 327.8200\\t7539.86\\t6618.71\\t921.15\\t', {'entities': [(28, 31, 'Ticker'), (33, 39, 'Quantity')]}), ('ISHARES S&P 500(IVV)\\t23.000\\t18.8200\\t2615.98\\t2184.71\\t431.27\\t', {'entities': [(16, 19, 'Ticker'), (21, 27, 'Quantity')]}), ('ISHARES GLOBAL ENERGY ETF(IXC)\\t139.000\\t25.9300\\t4304.38\\t5029.55\\t-725.17\\t', {'entities': [(26, 29, 'Ticker'), (31, 38, 'Quantity')]}), ('ISHARES TR MSCI UK ETF NEW (EWU) J P MORGAN EXCHANGE-TRADED FD\\t166.000 128.000\\t22.6100\\t2894.08\\t2634.37\\t259.71 -388.91\\t', {'entities': [(28, 31, 'Ticker'), (63, 70, 'Quantity')]}), ('BETBULD JAPAN (BBJP)\\t125.000\\t24.4900\\t3061.25\\t3450.16\\t\\t', {'entities': [(15, 19, 'Ticker'), (21, 28, 'Quantity')]}), ('SCHWAB FUNDAMENTAL EM L/C(FNDE) VANGUARD TAX-MANAGED FDS FTSE DEV\\t114.000\\t39.8100\\t4538.34\\t4589.96 2677.50\\t-51.62 268.00\\t', {'entities': [(26, 30, 'Ticker'), (66, 73, 'Quantity')]}), ('MKT ETF (VEA) VANGUARD SECTOR INDEX FDS VANGUARD\\t50.000\\t58.9100\\t2945.50\\t4390.65\\t315.18\\t', {'entities': [(49, 55, 'Quantity')]}), ('FINLS VIPERS (VFH) VANGUARD INDEX FDS VANGUARD MID CAP VIPERS FORMERLY VANGUARD INDEX TR\\t27.000\\t174.2900\\t4705.83\\t\\t\\t', {'entities': [(14, 17, 'Ticker'), (89, 95, 'Quantity')]}), ('TREASURY ETF (SCHR)\\t.\\t\\t\\t2540.77\\t282.25\\t', {'entities': [(14, 18, 'Ticker'), (24, 31, 'Quantity')]}), ('(SCHP) VANGUARD BD INDEX FDS SHORT TRM BOND (BSV)\\t33.000\\t83.3000\\t2748.90\\t2593.85\\t1538.24\\t', {'entities': [(1, 5, 'Ticker'), (45, 48, 'Ticker'), (50, 56, 'Quantity'), (57, 64, 'Quantity')]}), ('VANGUARD BD INDEX FDS TOTAL BND MRKT (BND)\\t164.000\\t89.4600\\t14671.44\\t13133.20 22265.38\\t2046.22\\t', {'entities': [(28, 31, 'Ticker'), (43, 50, 'Quantity')]}), ('UNILEVER PLC SPON ADR NEW(UL)\\t151.000\\t60.4800\\t9132.48\\t', {'entities': [(26, 28, 'Ticker'), (30, 37, 'Quantity')]}), ('VISA INC (V)\\t34.000\\t190.4000\\t6473.60\\t', {'entities': [(0, 1, 'Ticker'), (13, 19, 'Quantity')]}), ('WPP PLC AMERICAN DEPOSITARY SHS EACH REP 5 ORD (WPP)\\t32.000\\t37.3000\\t1193.60\\t', {'entities': [(0, 3, 'Ticker'), (53, 59, 'Quantity')]}), ('WELLS FARGO co NEW COM(WFC)\\t156.000\\t24.2600\\t3784.56\\t', {'entities': [(23, 26, 'Ticker'), (28, 35, 'Quantity')]}), ('ALTRIA GROUP INC(MO)\\t28.000\\t$41.1500\\t$1152.20\\t$1823.26\\t-$671.06\\t$96.\\t', {'entities': [(17, 19, 'Ticker'), (21, 27, 'Quantity')]}), ('AMGEN INC (AMGN)\\t15.000\\t244.6700\\t3670.05\\t2767.32\\t902.73\\t96\\t', {'entities': [(11, 15, 'Ticker'), (17, 23, 'Quantity')]}), ('BLACKROCK INC COM USD0.01(BLK)\\t5.000\\t575.0100\\t2875.05\\t2077.14\\t797.91\\t72\\t', {'entities': [(26, 29, 'Ticker'), (31, 36, 'Quantity')]}), ('CATERPILLAR INC COM USD1.00(CAT)\\t17.000\\t132.8800\\t2258.96\\t2015.58\\t243.38\\t70\\t', {'entities': [(0, 3, 'Ticker'), (33, 39, 'Quantity')]}), ('CENTERPOINT ENERGY INC COM STK USD0.01 (CNP)\\t107.000\\t19.0100\\t2034.07\\t2872.10\\t-838.03\\t64\\t', {'entities': [(40, 43, 'Ticker'), (45, 52, 'Quantity')]}), ('COCA-COLA co (KO)\\t65.000\\t47.2400\\t3070.60\\t2861.15\\t209.45\\t106\\t', {'entities': [(14, 16, 'Ticker'), (18, 24, 'Quantity')]}), ('COMCAST CORP (CMCSA)\\t90.000\\t42.8000\\t3852.00\\t3393.04\\t458.96\\t82\\t', {'entities': [(14, 19, 'Ticker'), (21, 27, 'Quantity')]}), ('COMPASS MINERALS INTL INC(CMP)\\t43.000\\t50.9400\\t& 2190.42\\t2854.42\\t-664.00\\t123\\t', {'entities': [(26, 29, 'Ticker'), (31, 37, 'Quantity')]}), ('DOMINION ENERGY INC COM(D)\\t36.000\\t81.0300\\t2917.08\\t2541.92\\t375.16\\t13\\t', {'entities': [(0, 1, 'Ticker'), (27, 33, 'Quantity')]}), ('ISIN #US26441C2044 SEDOL (DUK) ENBRIDGE INC COM ISIN #CA29250N1050 SEDOL #2466149 (ENB)\\t156.000\\t32.0000\\t4992.00\\t5597.75\\t-605.75\\t17\\t', {'entities': [(26, 29, 'Ticker'), (31, 34, 'Ticker'), (88, 95, 'Quantity'), (96, 103, 'Quantity')]}), ('EXXON MOBIL CORP(XOM)\\t49.000\\t42.0800\\t2061.92\\t3760.82\\t-1698.90\\t8\\t', {'entities': [(17, 20, 'Ticker'), (22, 28, 'Quantity')]}), ('FIRSTENERGY CORP COM USD0.10(FE)\\t52.000\\t29.0000\\t1508.00\\t2092.91\\t-584.91\\t9\\t', {'entities': [(29, 31, 'Ticker'), (33, 39, 'Quantity')]}), ('GENERAL MILLS INC COM USD0.10(GIS)\\t51.000\\t63.2700\\t3226.77\\t2528.78\\t697.99\\t\\t', {'entities': [(30, 33, 'Ticker'), (35, 41, 'Quantity')]}), ('GENUINE PARTS co COM USD1.00(GPC)\\t21.000\\t90.1500\\t1893.15\\t1844.10\\t49.05\\t1:\\t', {'entities': [(29, 32, 'Ticker'), (34, 40, 'Quantity')]}), ('IANESBRANDS INC COM USD0.01(HBI)\\t223.000\\t14.1300\\t3150.99\\t4212.30\\t-1061.31 835.48\\t\\t', {'entities': [(28, 31, 'Ticker'), (33, 40, 'Quantity')]}), ('IOME DEPOT INC(HD)\\t8.000\\t265.4900\\t2123.92\\t1288.44\\t550.43\\t1\\t', {'entities': [(15, 17, 'Ticker'), (19, 24, 'Quantity')]}), ('LOYDS BANKING GROUP ADR 4 ORD(LYG)\\t1245.000\\t1.3200\\t1643.40\\t2904.58\\t273.45\\t\\t', {'entities': [(30, 33, 'Ticker'), (35, 43, 'Quantity')]}), ('ICDONALD S CORP(MCD)\\t6.000\\t194.2800\\t1165.68\\t892.23\\t-586.74\\t\\t', {'entities': [(16, 19, 'Ticker'), (21, 26, 'Quantity')]}), ('MNICOM GROUP INC COM USD0.15(OMC)\\t26.000\\t53.7300\\t1396.98\\t1983.72\\t424.73\\t\\t', {'entities': [(29, 32, 'Ticker'), (34, 40, 'Quantity')]}), ('FIZER INC (PFE)\\t139.000\\t38.4800\\t5348.72\\t4923.99\\t\\t\\t', {'entities': [(11, 14, 'Ticker'), (16, 23, 'Quantity')]}), ('FIDELITY TREASURY MONEY MARKET FUND (FZFXX) 7-day vield: 0.01%\\t7021.340\\t$1.0000\\t$7021.34\\tnot applicable\\tnot applicable\\t$74.86\\t', {'entities': [(37, 42, 'Ticker'), (63, 71, 'Quantity')]}), ('ISHARES CORE S&P 500 ETF(IVV)\\t6.000\\t$309.6900\\t$1858.14\\t$1632.30\\t$225.84\\t$35.26\\t1.900%\\t', {'entities': [(25, 28, 'Ticker'), (30, 35, 'Quantity')]}), ('SCHWAB FUNDAMENTAL EM L/C(FNDE)\\t41.000\\t23.4100\\t959.81\\t1084.28\\t-124.47\\t20.37\\t2.120\\t', {'entities': [(26, 30, 'Ticker'), (32, 38, 'Quantity')]}), ('VANGUARD TAX-MANAGED FDS FTSE DEV MKT ETF (VEA)\\t38.000\\t38.7900\\t1474.02\\t1430.84\\t43.18\\t39.69\\t2.690\\t', {'entities': [(43, 46, 'Ticker'), (48, 54, 'Quantity')]}), ('ISHARES TR JP MOR EM MK ETF (EMB)\\t9.000\\t$109.2200\\t$982.98\\t$910.62\\t$72.36\\t$43.88\\t4.460%\\t', {'entities': [(29, 32, 'Ticker'), (34, 39, 'Quantity')]}), ('SCHWAB STRATEGIC TR INTERMEDIATE-TERN US TREASURY ETF (SCHR)\\t42.000\\t58.7800\\t4 2468.76\\t2447.97\\t20.79\\t49.95\\t2.020\\t', {'entities': [(55, 59, 'Ticker'), (61, 67, 'Quantity')]}), ('SCHWAB STRATEGIC TR US TIPS ETF (SCHP)\\t25.000\\t60.0200\\t1500.50\\t1342.62\\t157.88\\t-\\t-\\t', {'entities': [(33, 37, 'Ticker'), (39, 45, 'Quantity')]}), ('VANGUARD BD INDEX FDS SHORT TRM BOND (BSV)\\t24.000\\t83.1200\\t1994.88\\t1897.17\\t97.71\\t41.80\\t2.100\\t', {'entities': [(38, 41, 'Ticker'), (43, 49, 'Quantity')]}), ('VANGUARD BD INDEX FDS TOTAL BND MRKT (BND)\\t72.000\\t88.3400\\t6360.48\\t5873.99\\t486.49\\t155.99\\t2.450\\t', {'entities': [(28, 31, 'Ticker'), (43, 49, 'Quantity')]}), ('ETF TR XTRACK MSCI EAFE (DBEF)\\t186.000\\t\\t', {'entities': [(25, 29, 'Ticker'), (31, 38, 'Quantity')]}), ('x FDS GLB x MLP ENRG I(MLPX)\\t113.000\\t\\t', {'entities': [(23, 27, 'Ticker'), (29, 36, 'Quantity')]}), ('INC MSCI GERMANY ETF (EWG)\\t103.000\\t\\t', {'entities': [(22, 25, 'Ticker'), (27, 34, 'Quantity')]}), ('GLOBAL ENERGY ETF(IXC)\\t143.000\\t\\t', {'entities': [(18, 21, 'Ticker'), (23, 30, 'Quantity')]}), ('TR EAFE VALUE ETF(EFV)\\t245.000\\t\\t', {'entities': [(18, 21, 'Ticker'), (23, 30, 'Quantity')]}), ('TR MSCI UK ETF NEW (EWU)\\t218.000\\t\\t', {'entities': [(20, 23, 'Ticker'), (25, 32, 'Quantity')]}), ('MORGAN EXCHANGE-TRADED FD JAPAN (BBJP)\\t182.000\\t\\t', {'entities': [(33, 37, 'Ticker'), (39, 46, 'Quantity')]}), ('FUNDAMENTAL EM L/C(FNDE)\\t178.000\\t2\\t', {'entities': [(19, 23, 'Ticker'), (25, 32, 'Quantity')]}), ('VECTORS ETF TR MORNINGSTAR (MOAT)\\t54.000\\t5\\t', {'entities': [(28, 32, 'Ticker'), (34, 40, 'Quantity')]}), ('TAX-MANAGED FDS FTSE DEV ETF (VEA)\\t217.000\\t39\\t', {'entities': [(30, 33, 'Ticker'), (35, 42, 'Quantity')]}), ('SECTOR INDEX FDS VANGUARD VIPERS (VFH)\\t49.000\\t58\\t', {'entities': [(34, 37, 'Ticker'), (39, 45, 'Quantity')]}), ('INTL EQUITY INDEX FDS FTSE ETF (VWO)\\t176.000\\t43\\t', {'entities': [(32, 35, 'Ticker'), (37, 44, 'Quantity')]}), ('Equity ETPs (continued) VANGUARD TAX-MANAGED FDS FTSE DEV MKT ETF (VEA)\\t109.000\\t39.8100\\t4339.29\\t4103.05\\t236.24\\t\\t', {'entities': [(67, 70, 'Ticker'), (72, 79, 'Quantity')]}), ('ISHARES SHORT-TERM NATIONAL MUNI BOND ETF (SUB)\\t116.000\\t$108.3900\\t$12573.24\\t$12270.85\\t$302.39\\t\\t', {'entities': [(43, 46, 'Ticker'), (48, 55, 'Quantity')]}), ('VANGUARD MUN BD FDS TAX EXEMPT BD (VTEB)\\t362.000\\t54.9000\\t19873.80 6\\t18976.18\\t897.62\\t\\t', {'entities': [(35, 39, 'Ticker'), (41, 48, 'Quantity')]}), ('DBX ETF TR XTRACK MSCI EAFE (DBEF)\\t381.000\\t$29.6500\\t$11296.65\\t', {'entities': [(29, 33, 'Ticker'), (35, 42, 'Quantity')]})]\n",
    "     "
   ]
  },
  {
   "cell_type": "code",
   "execution_count": 6,
   "metadata": {},
   "outputs": [],
   "source": [
    "model = None\n",
    "output_dir=Path(\"../Model\")\n",
    "n_iter=100"
   ]
  },
  {
   "cell_type": "code",
   "execution_count": 7,
   "metadata": {},
   "outputs": [
    {
     "name": "stdout",
     "output_type": "stream",
     "text": [
      "Created blank 'en' model\n"
     ]
    }
   ],
   "source": [
    "\n",
    "#load the model\n",
    "\n",
    "if model is not None:\n",
    "    nlp = spacy.load(model)  \n",
    "    print(\"Loaded model '%s'\" % model)\n",
    "else:\n",
    "    nlp = spacy.blank('en')  \n",
    "    print(\"Created blank 'en' model\")\n",
    "\n",
    "#set up the pipeline\n",
    "\n",
    "if 'ner' not in nlp.pipe_names:\n",
    "    ner = nlp.create_pipe('ner')\n",
    "    nlp.add_pipe(ner, last=True)\n",
    "else:\n",
    "    ner = nlp.get_pipe('ner')"
   ]
  },
  {
   "cell_type": "code",
   "execution_count": 6,
   "metadata": {},
   "outputs": [
    {
     "name": "stderr",
     "output_type": "stream",
     "text": [
      "/Users/Nagarwa/opt/anaconda3/envs/deeplearning/lib/python3.7/site-packages/spacy/language.py:639: UserWarning: [W033] Training a new parser or NER using a model with no lexeme normalization table. This may degrade the performance of the model to some degree. If this is intentional or the language you're using doesn't have a normalization table, please ignore this warning. If this is surprising, make sure you have the spacy-lookups-data package installed. The languages with lexeme normalization tables are currently: da, de, el, en, id, lb, pt, ru, sr, ta, th.\n",
      "  **kwargs\n",
      "  0%|          | 0/161 [00:00<?, ?it/s]/Users/Nagarwa/opt/anaconda3/envs/deeplearning/lib/python3.7/site-packages/spacy/language.py:482: UserWarning: [W030] Some entities could not be aligned in the text \"IOME DEPOT INC(HD)\t8.000\t265.4900\t2123.92\t1288.44\t...\" with entities \"[(15, 17, 'Ticker'), (19, 24, 'Quantity')]\". Use `spacy.gold.biluo_tags_from_offsets(nlp.make_doc(text), entities)` to check the alignment. Misaligned entities ('-') will be ignored during training.\n",
      "  gold = GoldParse(doc, **gold)\n",
      "  2%|▏         | 4/161 [00:00<00:04, 37.25it/s]/Users/Nagarwa/opt/anaconda3/envs/deeplearning/lib/python3.7/site-packages/spacy/language.py:482: UserWarning: [W030] Some entities could not be aligned in the text \"x FDS GLB x MLP ENRG I(MLPX)\t113.000\t\t\" with entities \"[(23, 27, 'Ticker'), (29, 36, 'Quantity')]\". Use `spacy.gold.biluo_tags_from_offsets(nlp.make_doc(text), entities)` to check the alignment. Misaligned entities ('-') will be ignored during training.\n",
      "  gold = GoldParse(doc, **gold)\n",
      "/Users/Nagarwa/opt/anaconda3/envs/deeplearning/lib/python3.7/site-packages/spacy/language.py:482: UserWarning: [W030] Some entities could not be aligned in the text \"ISHARES S&P 500(IVV)\t14.483\t327.8200\t4747.81\t4017....\" with entities \"[(16, 19, 'Ticker'), (21, 27, 'Quantity')]\". Use `spacy.gold.biluo_tags_from_offsets(nlp.make_doc(text), entities)` to check the alignment. Misaligned entities ('-') will be ignored during training.\n",
      "  gold = GoldParse(doc, **gold)\n",
      "  6%|▌         | 10/161 [00:00<00:03, 41.85it/s]/Users/Nagarwa/opt/anaconda3/envs/deeplearning/lib/python3.7/site-packages/spacy/language.py:482: UserWarning: [W030] Some entities could not be aligned in the text \"IANESBRANDS INC COM USD0.01(HBI)\t223.000\t14.1300\t3...\" with entities \"[(28, 31, 'Ticker'), (33, 40, 'Quantity')]\". Use `spacy.gold.biluo_tags_from_offsets(nlp.make_doc(text), entities)` to check the alignment. Misaligned entities ('-') will be ignored during training.\n",
      "  gold = GoldParse(doc, **gold)\n",
      "/Users/Nagarwa/opt/anaconda3/envs/deeplearning/lib/python3.7/site-packages/spacy/language.py:482: UserWarning: [W030] Some entities could not be aligned in the text \"VISA INC (V)\t30.000\t190.4000\t5712.00\t\t\" with entities \"[(0, 1, 'Ticker'), (13, 19, 'Quantity')]\". Use `spacy.gold.biluo_tags_from_offsets(nlp.make_doc(text), entities)` to check the alignment. Misaligned entities ('-') will be ignored during training.\n",
      "  gold = GoldParse(doc, **gold)\n",
      " 10%|▉         | 16/161 [00:00<00:03, 45.69it/s]/Users/Nagarwa/opt/anaconda3/envs/deeplearning/lib/python3.7/site-packages/spacy/language.py:482: UserWarning: [W030] Some entities could not be aligned in the text \"FUNDAMENTAL EM L/C(FNDE)\t178.000\t2\t\" with entities \"[(19, 23, 'Ticker'), (25, 32, 'Quantity')]\". Use `spacy.gold.biluo_tags_from_offsets(nlp.make_doc(text), entities)` to check the alignment. Misaligned entities ('-') will be ignored during training.\n",
      "  gold = GoldParse(doc, **gold)\n",
      "/Users/Nagarwa/opt/anaconda3/envs/deeplearning/lib/python3.7/site-packages/spacy/language.py:482: UserWarning: [W030] Some entities could not be aligned in the text \"VISA INC (V)\t34.000\t190.4000\t6473.60\t\" with entities \"[(0, 1, 'Ticker'), (13, 19, 'Quantity')]\". Use `spacy.gold.biluo_tags_from_offsets(nlp.make_doc(text), entities)` to check the alignment. Misaligned entities ('-') will be ignored during training.\n",
      "  gold = GoldParse(doc, **gold)\n",
      "/Users/Nagarwa/opt/anaconda3/envs/deeplearning/lib/python3.7/site-packages/spacy/language.py:482: UserWarning: [W030] Some entities could not be aligned in the text \"WELLS FARGO co NEW COM(WFC)\t156.000\t24.2600\t3784.5...\" with entities \"[(23, 26, 'Ticker'), (28, 35, 'Quantity')]\". Use `spacy.gold.biluo_tags_from_offsets(nlp.make_doc(text), entities)` to check the alignment. Misaligned entities ('-') will be ignored during training.\n",
      "  gold = GoldParse(doc, **gold)\n",
      "/Users/Nagarwa/opt/anaconda3/envs/deeplearning/lib/python3.7/site-packages/spacy/language.py:482: UserWarning: [W030] Some entities could not be aligned in the text \"ISHARES MSCI SOUTH KOREA ETF(EWY)\t33.000\t$60.2600\t...\" with entities \"[(29, 32, 'Ticker'), (34, 40, 'Quantity')]\". Use `spacy.gold.biluo_tags_from_offsets(nlp.make_doc(text), entities)` to check the alignment. Misaligned entities ('-') will be ignored during training.\n",
      "  gold = GoldParse(doc, **gold)\n",
      "/Users/Nagarwa/opt/anaconda3/envs/deeplearning/lib/python3.7/site-packages/spacy/language.py:482: UserWarning: [W030] Some entities could not be aligned in the text \"ISHARES TR JP MOR EM MK ETF (EMB) ISHARES TR BROAD...\" with entities \"[(29, 32, 'Ticker'), (60, 64, 'Ticker'), (66, 73, ...\". Use `spacy.gold.biluo_tags_from_offsets(nlp.make_doc(text), entities)` to check the alignment. Misaligned entities ('-') will be ignored during training.\n",
      "  gold = GoldParse(doc, **gold)\n",
      " 14%|█▍        | 23/161 [00:00<00:02, 48.88it/s]/Users/Nagarwa/opt/anaconda3/envs/deeplearning/lib/python3.7/site-packages/spacy/language.py:482: UserWarning: [W030] Some entities could not be aligned in the text \"ISHARES GLOBAL HEALTHCARE ETF(IXJ)\t\t18.8200\t959.82...\" with entities \"[(30, 33, 'Ticker')]\". Use `spacy.gold.biluo_tags_from_offsets(nlp.make_doc(text), entities)` to check the alignment. Misaligned entities ('-') will be ignored during training.\n",
      "  gold = GoldParse(doc, **gold)\n",
      "/Users/Nagarwa/opt/anaconda3/envs/deeplearning/lib/python3.7/site-packages/spacy/language.py:482: UserWarning: [W030] Some entities could not be aligned in the text \"UNITEDHEALTH GROUP INC(UNH)\t13.000\t302.7800\t3936.1...\" with entities \"[(23, 26, 'Ticker'), (28, 34, 'Quantity')]\". Use `spacy.gold.biluo_tags_from_offsets(nlp.make_doc(text), entities)` to check the alignment. Misaligned entities ('-') will be ignored during training.\n",
      "  gold = GoldParse(doc, **gold)\n",
      "/Users/Nagarwa/opt/anaconda3/envs/deeplearning/lib/python3.7/site-packages/spacy/language.py:482: UserWarning: [W030] Some entities could not be aligned in the text \"SCHWAB FUNDAMENTAL EM L/C(FNDE) VANGUARD TAX-MANAG...\" with entities \"[(26, 30, 'Ticker'), (66, 72, 'Quantity')]\". Use `spacy.gold.biluo_tags_from_offsets(nlp.make_doc(text), entities)` to check the alignment. Misaligned entities ('-') will be ignored during training.\n",
      "  gold = GoldParse(doc, **gold)\n",
      " 18%|█▊        | 29/161 [00:00<00:02, 49.81it/s]/Users/Nagarwa/opt/anaconda3/envs/deeplearning/lib/python3.7/site-packages/spacy/language.py:482: UserWarning: [W030] Some entities could not be aligned in the text \"DOMINION ENERGY INC COM(D)\t36.000\t81.0300\t2917.08\t...\" with entities \"[(0, 1, 'Ticker'), (27, 33, 'Quantity')]\". Use `spacy.gold.biluo_tags_from_offsets(nlp.make_doc(text), entities)` to check the alignment. Misaligned entities ('-') will be ignored during training.\n",
      "  gold = GoldParse(doc, **gold)\n",
      "/Users/Nagarwa/opt/anaconda3/envs/deeplearning/lib/python3.7/site-packages/spacy/language.py:482: UserWarning: [W030] Some entities could not be aligned in the text \"ISHARES S&P 500(IVV)\t37.000\t24.4900\t906.13\t973.66\t\" with entities \"[(16, 19, 'Ticker'), (21, 27, 'Quantity')]\". Use `spacy.gold.biluo_tags_from_offsets(nlp.make_doc(text), entities)` to check the alignment. Misaligned entities ('-') will be ignored during training.\n",
      "  gold = GoldParse(doc, **gold)\n",
      "/Users/Nagarwa/opt/anaconda3/envs/deeplearning/lib/python3.7/site-packages/spacy/language.py:482: UserWarning: [W030] Some entities could not be aligned in the text \"GLOBAL ENERGY ETF(IXC)\t143.000\t\t\" with entities \"[(18, 21, 'Ticker'), (23, 30, 'Quantity')]\". Use `spacy.gold.biluo_tags_from_offsets(nlp.make_doc(text), entities)` to check the alignment. Misaligned entities ('-') will be ignored during training.\n",
      "  gold = GoldParse(doc, **gold)\n",
      "/Users/Nagarwa/opt/anaconda3/envs/deeplearning/lib/python3.7/site-packages/spacy/language.py:482: UserWarning: [W030] Some entities could not be aligned in the text \"ISHARES GLOBAL ENERGY ETF(IXC)\t88.664\t18.8200\t1668...\" with entities \"[(26, 29, 'Ticker'), (31, 37, 'Quantity')]\". Use `spacy.gold.biluo_tags_from_offsets(nlp.make_doc(text), entities)` to check the alignment. Misaligned entities ('-') will be ignored during training.\n",
      "  gold = GoldParse(doc, **gold)\n"
     ]
    },
    {
     "name": "stderr",
     "output_type": "stream",
     "text": [
      " 22%|██▏       | 35/161 [00:00<00:02, 52.03it/s]/Users/Nagarwa/opt/anaconda3/envs/deeplearning/lib/python3.7/site-packages/spacy/language.py:482: UserWarning: [W030] Some entities could not be aligned in the text \"LOWES COMPANIES INC COM USD0.50 (LOW)\t\t148.9100\t77...\" with entities \"[(0, 3, 'Ticker'), (39, 47, 'Quantity')]\". Use `spacy.gold.biluo_tags_from_offsets(nlp.make_doc(text), entities)` to check the alignment. Misaligned entities ('-') will be ignored during training.\n",
      "  gold = GoldParse(doc, **gold)\n",
      "/Users/Nagarwa/opt/anaconda3/envs/deeplearning/lib/python3.7/site-packages/spacy/language.py:482: UserWarning: [W030] Some entities could not be aligned in the text \"BOOKING HOLDINGS INC COM(BKNG)\t3.000\t96.9700\t3296....\" with entities \"[(25, 29, 'Ticker'), (31, 36, 'Quantity')]\". Use `spacy.gold.biluo_tags_from_offsets(nlp.make_doc(text), entities)` to check the alignment. Misaligned entities ('-') will be ignored during training.\n",
      "  gold = GoldParse(doc, **gold)\n",
      "/Users/Nagarwa/opt/anaconda3/envs/deeplearning/lib/python3.7/site-packages/spacy/language.py:482: UserWarning: [W030] Some entities could not be aligned in the text \"MASTERCARD INCORPORATED CL A(MA)\t52.000\t308.5300\t1...\" with entities \"[(0, 2, 'Ticker'), (33, 39, 'Quantity')]\". Use `spacy.gold.biluo_tags_from_offsets(nlp.make_doc(text), entities)` to check the alignment. Misaligned entities ('-') will be ignored during training.\n",
      "  gold = GoldParse(doc, **gold)\n",
      "/Users/Nagarwa/opt/anaconda3/envs/deeplearning/lib/python3.7/site-packages/spacy/language.py:482: UserWarning: [W030] Some entities could not be aligned in the text \"SCHWAB FUNDAMENTAL EM L/C(FNDE)\t28.000\t24.4900\t685...\" with entities \"[(26, 30, 'Ticker'), (32, 38, 'Quantity')]\". Use `spacy.gold.biluo_tags_from_offsets(nlp.make_doc(text), entities)` to check the alignment. Misaligned entities ('-') will be ignored during training.\n",
      "  gold = GoldParse(doc, **gold)\n",
      " 25%|██▌       | 41/161 [00:00<00:02, 51.94it/s]/Users/Nagarwa/opt/anaconda3/envs/deeplearning/lib/python3.7/site-packages/spacy/language.py:482: UserWarning: [W030] Some entities could not be aligned in the text \"GLOBAL x FDS GLB x MLP ENRG I(MLPX)\t\t60.2600\t1506....\" with entities \"[(30, 34, 'Ticker')]\". Use `spacy.gold.biluo_tags_from_offsets(nlp.make_doc(text), entities)` to check the alignment. Misaligned entities ('-') will be ignored during training.\n",
      "  gold = GoldParse(doc, **gold)\n",
      "/Users/Nagarwa/opt/anaconda3/envs/deeplearning/lib/python3.7/site-packages/spacy/language.py:482: UserWarning: [W030] Some entities could not be aligned in the text \"ISHARES GLOBAL ENERGY ETF(IXC)\t139.000\t25.9300\t430...\" with entities \"[(26, 29, 'Ticker'), (31, 38, 'Quantity')]\". Use `spacy.gold.biluo_tags_from_offsets(nlp.make_doc(text), entities)` to check the alignment. Misaligned entities ('-') will be ignored during training.\n",
      "  gold = GoldParse(doc, **gold)\n",
      " 32%|███▏      | 52/161 [00:00<00:02, 50.64it/s]/Users/Nagarwa/opt/anaconda3/envs/deeplearning/lib/python3.7/site-packages/spacy/language.py:482: UserWarning: [W030] Some entities could not be aligned in the text \"ISHARES TR EAFE ETF(EFV)\t22.000\t39.8900\t877.58 7\t\" with entities \"[(20, 23, 'Ticker'), (25, 31, 'Quantity')]\". Use `spacy.gold.biluo_tags_from_offsets(nlp.make_doc(text), entities)` to check the alignment. Misaligned entities ('-') will be ignored during training.\n",
      "  gold = GoldParse(doc, **gold)\n",
      "/Users/Nagarwa/opt/anaconda3/envs/deeplearning/lib/python3.7/site-packages/spacy/language.py:482: UserWarning: [W030] Some entities could not be aligned in the text \"ISHARES TR ESG AWRE 1 5 YR(SUSB)\t188.000\t$26.1700\t...\" with entities \"[(27, 31, 'Ticker'), (33, 40, 'Quantity')]\". Use `spacy.gold.biluo_tags_from_offsets(nlp.make_doc(text), entities)` to check the alignment. Misaligned entities ('-') will be ignored during training.\n",
      "  gold = GoldParse(doc, **gold)\n",
      " 36%|███▌      | 58/161 [00:01<00:02, 51.17it/s]/Users/Nagarwa/opt/anaconda3/envs/deeplearning/lib/python3.7/site-packages/spacy/language.py:482: UserWarning: [W030] Some entities could not be aligned in the text \"MNICOM GROUP INC COM USD0.15(OMC)\t26.000\t53.7300\t1...\" with entities \"[(29, 32, 'Ticker'), (34, 40, 'Quantity')]\". Use `spacy.gold.biluo_tags_from_offsets(nlp.make_doc(text), entities)` to check the alignment. Misaligned entities ('-') will be ignored during training.\n",
      "  gold = GoldParse(doc, **gold)\n",
      "/Users/Nagarwa/opt/anaconda3/envs/deeplearning/lib/python3.7/site-packages/spacy/language.py:482: UserWarning: [W030] Some entities could not be aligned in the text \"ISHARES TR MSCI UK ETF NEW(EWU)\t87.000\t22.6100\t196...\" with entities \"[(27, 30, 'Ticker'), (32, 38, 'Quantity')]\". Use `spacy.gold.biluo_tags_from_offsets(nlp.make_doc(text), entities)` to check the alignment. Misaligned entities ('-') will be ignored during training.\n",
      "  gold = GoldParse(doc, **gold)\n",
      " 40%|███▉      | 64/161 [00:01<00:01, 52.57it/s]/Users/Nagarwa/opt/anaconda3/envs/deeplearning/lib/python3.7/site-packages/spacy/language.py:482: UserWarning: [W030] Some entities could not be aligned in the text \"ISHARES S&P 500(IVV)\t23.000\t18.8200\t2615.98\t2184.7...\" with entities \"[(16, 19, 'Ticker'), (21, 27, 'Quantity')]\". Use `spacy.gold.biluo_tags_from_offsets(nlp.make_doc(text), entities)` to check the alignment. Misaligned entities ('-') will be ignored during training.\n",
      "  gold = GoldParse(doc, **gold)\n",
      "/Users/Nagarwa/opt/anaconda3/envs/deeplearning/lib/python3.7/site-packages/spacy/language.py:482: UserWarning: [W030] Some entities could not be aligned in the text \"EXXON MOBIL CORP(XOM)\t49.000\t42.0800\t2061.92\t3760....\" with entities \"[(17, 20, 'Ticker'), (22, 28, 'Quantity')]\". Use `spacy.gold.biluo_tags_from_offsets(nlp.make_doc(text), entities)` to check the alignment. Misaligned entities ('-') will be ignored during training.\n",
      "  gold = GoldParse(doc, **gold)\n",
      " 43%|████▎     | 70/161 [00:01<00:01, 49.84it/s]/Users/Nagarwa/opt/anaconda3/envs/deeplearning/lib/python3.7/site-packages/spacy/language.py:482: UserWarning: [W030] Some entities could not be aligned in the text \"ISHARES TR ESG AWR US AGRGT(EAGG)\t286.000\t57.2000\t...\" with entities \"[(28, 32, 'Ticker'), (34, 41, 'Quantity')]\". Use `spacy.gold.biluo_tags_from_offsets(nlp.make_doc(text), entities)` to check the alignment. Misaligned entities ('-') will be ignored during training.\n",
      "  gold = GoldParse(doc, **gold)\n",
      " 47%|████▋     | 75/161 [00:01<00:01, 46.41it/s]/Users/Nagarwa/opt/anaconda3/envs/deeplearning/lib/python3.7/site-packages/spacy/language.py:482: UserWarning: [W030] Some entities could not be aligned in the text \"ISHARES GLOBAL ENERGY ETF(IXC)\t31.000\t$18.8200\t$58...\" with entities \"[(26, 29, 'Ticker'), (31, 37, 'Quantity')]\". Use `spacy.gold.biluo_tags_from_offsets(nlp.make_doc(text), entities)` to check the alignment. Misaligned entities ('-') will be ignored during training.\n",
      "  gold = GoldParse(doc, **gold)\n",
      "/Users/Nagarwa/opt/anaconda3/envs/deeplearning/lib/python3.7/site-packages/spacy/language.py:482: UserWarning: [W030] Some entities could not be aligned in the text \"SCHWAB FUNDAMENTAL EM L/C(FNDE) VANECK VECTORS ETF...\" with entities \"[(26, 30, 'Ticker'), (72, 76, 'Ticker'), (78, 84, ...\". Use `spacy.gold.biluo_tags_from_offsets(nlp.make_doc(text), entities)` to check the alignment. Misaligned entities ('-') will be ignored during training.\n",
      "  gold = GoldParse(doc, **gold)\n",
      "/Users/Nagarwa/opt/anaconda3/envs/deeplearning/lib/python3.7/site-packages/spacy/language.py:482: UserWarning: [W030] Some entities could not be aligned in the text \"COMPASS MINERALS INTL INC(CMP)\t43.000\t50.9400\t& 21...\" with entities \"[(26, 29, 'Ticker'), (31, 37, 'Quantity')]\". Use `spacy.gold.biluo_tags_from_offsets(nlp.make_doc(text), entities)` to check the alignment. Misaligned entities ('-') will be ignored during training.\n",
      "  gold = GoldParse(doc, **gold)\n",
      "/Users/Nagarwa/opt/anaconda3/envs/deeplearning/lib/python3.7/site-packages/spacy/language.py:482: UserWarning: [W030] Some entities could not be aligned in the text \"SCHWAB FUNDAMENTAL EM L/C(FNDE)\t74.970\t24.4900\t183...\" with entities \"[(26, 30, 'Ticker'), (32, 38, 'Quantity')]\". Use `spacy.gold.biluo_tags_from_offsets(nlp.make_doc(text), entities)` to check the alignment. Misaligned entities ('-') will be ignored during training.\n",
      "  gold = GoldParse(doc, **gold)\n"
     ]
    },
    {
     "name": "stderr",
     "output_type": "stream",
     "text": [
      " 50%|████▉     | 80/161 [00:01<00:01, 41.38it/s]/Users/Nagarwa/opt/anaconda3/envs/deeplearning/lib/python3.7/site-packages/spacy/language.py:482: UserWarning: [W030] Some entities could not be aligned in the text \"SCHWAB FUNDAMENTAL EM L/C(FNDE)\t41.000\t23.4100\t959...\" with entities \"[(26, 30, 'Ticker'), (32, 38, 'Quantity')]\". Use `spacy.gold.biluo_tags_from_offsets(nlp.make_doc(text), entities)` to check the alignment. Misaligned entities ('-') will be ignored during training.\n",
      "  gold = GoldParse(doc, **gold)\n",
      "/Users/Nagarwa/opt/anaconda3/envs/deeplearning/lib/python3.7/site-packages/spacy/language.py:482: UserWarning: [W030] Some entities could not be aligned in the text \"SEDOL #2466149 (ENB) FACEBOOK INC-CLASS A(FB)\t33.0...\" with entities \"[(0, 3, 'Ticker'), (42, 44, 'Ticker'), (46, 52, 'Q...\". Use `spacy.gold.biluo_tags_from_offsets(nlp.make_doc(text), entities)` to check the alignment. Misaligned entities ('-') will be ignored during training.\n",
      "  gold = GoldParse(doc, **gold)\n",
      "/Users/Nagarwa/opt/anaconda3/envs/deeplearning/lib/python3.7/site-packages/spacy/language.py:482: UserWarning: [W030] Some entities could not be aligned in the text \"ISHARES GLOBAL ENERGY TF(IXC)\t51.000 116.000\t39.89...\" with entities \"[(25, 28, 'Ticker'), (30, 36, 'Quantity')]\". Use `spacy.gold.biluo_tags_from_offsets(nlp.make_doc(text), entities)` to check the alignment. Misaligned entities ('-') will be ignored during training.\n",
      "  gold = GoldParse(doc, **gold)\n",
      " 53%|█████▎    | 86/161 [00:01<00:01, 43.62it/s]/Users/Nagarwa/opt/anaconda3/envs/deeplearning/lib/python3.7/site-packages/spacy/language.py:482: UserWarning: [W030] Some entities could not be aligned in the text \"CARMAX INC (KMX) WALT DISNEY co (DIS)\t34.000 8.000...\" with entities \"[(22, 25, 'Ticker'), (12, 15, 'Ticker'), (38, 44, ...\". Use `spacy.gold.biluo_tags_from_offsets(nlp.make_doc(text), entities)` to check the alignment. Misaligned entities ('-') will be ignored during training.\n",
      "  gold = GoldParse(doc, **gold)\n",
      "/Users/Nagarwa/opt/anaconda3/envs/deeplearning/lib/python3.7/site-packages/spacy/language.py:482: UserWarning: [W030] Some entities could not be aligned in the text \"UNILEVER PLC SPON ADR NEW(UL)\t151.000\t60.4800\t9132...\" with entities \"[(26, 28, 'Ticker'), (30, 37, 'Quantity')]\". Use `spacy.gold.biluo_tags_from_offsets(nlp.make_doc(text), entities)` to check the alignment. Misaligned entities ('-') will be ignored during training.\n",
      "  gold = GoldParse(doc, **gold)\n",
      " 57%|█████▋    | 91/161 [00:01<00:01, 45.29it/s]/Users/Nagarwa/opt/anaconda3/envs/deeplearning/lib/python3.7/site-packages/spacy/language.py:482: UserWarning: [W030] Some entities could not be aligned in the text \"CATERPILLAR INC COM USD1.00(CAT)\t17.000\t132.8800\t2...\" with entities \"[(0, 3, 'Ticker'), (33, 39, 'Quantity')]\". Use `spacy.gold.biluo_tags_from_offsets(nlp.make_doc(text), entities)` to check the alignment. Misaligned entities ('-') will be ignored during training.\n",
      "  gold = GoldParse(doc, **gold)\n",
      "/Users/Nagarwa/opt/anaconda3/envs/deeplearning/lib/python3.7/site-packages/spacy/language.py:482: UserWarning: [W030] Some entities could not be aligned in the text \"ISIN #US26441C2044 SEDOL (DUK) ENBRIDGE INC COM IS...\" with entities \"[(26, 29, 'Ticker'), (31, 34, 'Ticker'), (88, 95, ...\". Use `spacy.gold.biluo_tags_from_offsets(nlp.make_doc(text), entities)` to check the alignment. Misaligned entities ('-') will be ignored during training.\n",
      "  gold = GoldParse(doc, **gold)\n",
      " 60%|█████▉    | 96/161 [00:01<00:01, 44.98it/s]/Users/Nagarwa/opt/anaconda3/envs/deeplearning/lib/python3.7/site-packages/spacy/language.py:482: UserWarning: [W030] Some entities could not be aligned in the text \"TR EAFE VALUE ETF(EFV)\t245.000\t\t\" with entities \"[(18, 21, 'Ticker'), (23, 30, 'Quantity')]\". Use `spacy.gold.biluo_tags_from_offsets(nlp.make_doc(text), entities)` to check the alignment. Misaligned entities ('-') will be ignored during training.\n",
      "  gold = GoldParse(doc, **gold)\n",
      "/Users/Nagarwa/opt/anaconda3/envs/deeplearning/lib/python3.7/site-packages/spacy/language.py:482: UserWarning: [W030] Some entities could not be aligned in the text \"BLACKROCK INC COM USD0.01(BLK)\t5.000\t575.0100\t2875...\" with entities \"[(26, 29, 'Ticker'), (31, 36, 'Quantity')]\". Use `spacy.gold.biluo_tags_from_offsets(nlp.make_doc(text), entities)` to check the alignment. Misaligned entities ('-') will be ignored during training.\n",
      "  gold = GoldParse(doc, **gold)\n",
      " 63%|██████▎   | 102/161 [00:02<00:01, 47.22it/s]/Users/Nagarwa/opt/anaconda3/envs/deeplearning/lib/python3.7/site-packages/spacy/language.py:482: UserWarning: [W030] Some entities could not be aligned in the text \"FIRSTENERGY CORP COM USD0.10(FE)\t52.000\t29.0000\t15...\" with entities \"[(29, 31, 'Ticker'), (33, 39, 'Quantity')]\". Use `spacy.gold.biluo_tags_from_offsets(nlp.make_doc(text), entities)` to check the alignment. Misaligned entities ('-') will be ignored during training.\n",
      "  gold = GoldParse(doc, **gold)\n",
      "/Users/Nagarwa/opt/anaconda3/envs/deeplearning/lib/python3.7/site-packages/spacy/language.py:482: UserWarning: [W030] Some entities could not be aligned in the text \"ALTRIA GROUP INC(MO)\t28.000\t$41.1500\t$1152.20\t$182...\" with entities \"[(17, 19, 'Ticker'), (21, 27, 'Quantity')]\". Use `spacy.gold.biluo_tags_from_offsets(nlp.make_doc(text), entities)` to check the alignment. Misaligned entities ('-') will be ignored during training.\n",
      "  gold = GoldParse(doc, **gold)\n",
      "/Users/Nagarwa/opt/anaconda3/envs/deeplearning/lib/python3.7/site-packages/spacy/language.py:482: UserWarning: [W030] Some entities could not be aligned in the text \"LOYDS BANKING GROUP ADR 4 ORD(LYG)\t1245.000\t1.3200...\" with entities \"[(30, 33, 'Ticker'), (35, 43, 'Quantity')]\". Use `spacy.gold.biluo_tags_from_offsets(nlp.make_doc(text), entities)` to check the alignment. Misaligned entities ('-') will be ignored during training.\n",
      "  gold = GoldParse(doc, **gold)\n",
      " 66%|██████▋   | 107/161 [00:02<00:01, 46.94it/s]/Users/Nagarwa/opt/anaconda3/envs/deeplearning/lib/python3.7/site-packages/spacy/language.py:482: UserWarning: [W030] Some entities could not be aligned in the text \"ISHARES TR MSCI UK ETF NEW(EWU)\t104.482\t25.9300\t27...\" with entities \"[(27, 30, 'Ticker'), (32, 39, 'Quantity')]\". Use `spacy.gold.biluo_tags_from_offsets(nlp.make_doc(text), entities)` to check the alignment. Misaligned entities ('-') will be ignored during training.\n",
      "  gold = GoldParse(doc, **gold)\n",
      " 70%|██████▉   | 112/161 [00:02<00:01, 45.61it/s]/Users/Nagarwa/opt/anaconda3/envs/deeplearning/lib/python3.7/site-packages/spacy/language.py:482: UserWarning: [W030] Some entities could not be aligned in the text \"ISHARES CORE S&P 500 ETF(IVV)\t6.000\t$309.6900\t$185...\" with entities \"[(25, 28, 'Ticker'), (30, 35, 'Quantity')]\". Use `spacy.gold.biluo_tags_from_offsets(nlp.make_doc(text), entities)` to check the alignment. Misaligned entities ('-') will be ignored during training.\n",
      "  gold = GoldParse(doc, **gold)\n",
      "/Users/Nagarwa/opt/anaconda3/envs/deeplearning/lib/python3.7/site-packages/spacy/language.py:482: UserWarning: [W030] Some entities could not be aligned in the text \"IQVIA HLDGS INC COM(IQV)\t53.000\t158.3900\t8394.67\t\t\" with entities \"[(0, 3, 'Ticker'), (25, 31, 'Quantity')]\". Use `spacy.gold.biluo_tags_from_offsets(nlp.make_doc(text), entities)` to check the alignment. Misaligned entities ('-') will be ignored during training.\n",
      "  gold = GoldParse(doc, **gold)\n",
      " 73%|███████▎  | 117/161 [00:02<00:00, 45.45it/s]/Users/Nagarwa/opt/anaconda3/envs/deeplearning/lib/python3.7/site-packages/spacy/language.py:482: UserWarning: [W030] Some entities could not be aligned in the text \"ISHARES MSCI SOUTH KOREA TF(EWY)\t53.000\t$60.2600 3...\" with entities \"[(28, 31, 'Ticker'), (33, 39, 'Quantity')]\". Use `spacy.gold.biluo_tags_from_offsets(nlp.make_doc(text), entities)` to check the alignment. Misaligned entities ('-') will be ignored during training.\n",
      "  gold = GoldParse(doc, **gold)\n",
      " 76%|███████▋  | 123/161 [00:02<00:00, 47.33it/s]/Users/Nagarwa/opt/anaconda3/envs/deeplearning/lib/python3.7/site-packages/spacy/language.py:482: UserWarning: [W030] Some entities could not be aligned in the text \"Stock Funds CALVERT US LRG CAP VAL RESPONS INDEX 1...\" with entities \"[(51, 56, 'Ticker'), (58, 64, 'Quantity')]\". Use `spacy.gold.biluo_tags_from_offsets(nlp.make_doc(text), entities)` to check the alignment. Misaligned entities ('-') will be ignored during training.\n",
      "  gold = GoldParse(doc, **gold)\n"
     ]
    },
    {
     "name": "stderr",
     "output_type": "stream",
     "text": [
      " 80%|████████  | 129/161 [00:02<00:00, 47.78it/s]/Users/Nagarwa/opt/anaconda3/envs/deeplearning/lib/python3.7/site-packages/spacy/language.py:482: UserWarning: [W030] Some entities could not be aligned in the text \"GENERAL MILLS INC COM USD0.10(GIS)\t51.000\t63.2700\t...\" with entities \"[(30, 33, 'Ticker'), (35, 41, 'Quantity')]\". Use `spacy.gold.biluo_tags_from_offsets(nlp.make_doc(text), entities)` to check the alignment. Misaligned entities ('-') will be ignored during training.\n",
      "  gold = GoldParse(doc, **gold)\n",
      " 84%|████████▍ | 135/161 [00:02<00:00, 47.98it/s]/Users/Nagarwa/opt/anaconda3/envs/deeplearning/lib/python3.7/site-packages/spacy/language.py:482: UserWarning: [W030] Some entities could not be aligned in the text \"GENUINE PARTS co COM USD1.00(GPC)\t21.000\t90.1500\t1...\" with entities \"[(29, 32, 'Ticker'), (34, 40, 'Quantity')]\". Use `spacy.gold.biluo_tags_from_offsets(nlp.make_doc(text), entities)` to check the alignment. Misaligned entities ('-') will be ignored during training.\n",
      "  gold = GoldParse(doc, **gold)\n",
      "/Users/Nagarwa/opt/anaconda3/envs/deeplearning/lib/python3.7/site-packages/spacy/language.py:482: UserWarning: [W030] Some entities could not be aligned in the text \"ISHARES MSCI SOUTH KOREA TF(EWY)\t25.000\t28.2500\t21...\" with entities \"[(28, 31, 'Ticker'), (33, 39, 'Quantity')]\". Use `spacy.gold.biluo_tags_from_offsets(nlp.make_doc(text), entities)` to check the alignment. Misaligned entities ('-') will be ignored during training.\n",
      "  gold = GoldParse(doc, **gold)\n",
      "/Users/Nagarwa/opt/anaconda3/envs/deeplearning/lib/python3.7/site-packages/spacy/language.py:482: UserWarning: [W030] Some entities could not be aligned in the text \"PARNASSUS CORE EQUITY INSTL(PRILX)\t57.012\t49.0900\t...\" with entities \"[(28, 33, 'Ticker'), (35, 41, 'Quantity')]\". Use `spacy.gold.biluo_tags_from_offsets(nlp.make_doc(text), entities)` to check the alignment. Misaligned entities ('-') will be ignored during training.\n",
      "  gold = GoldParse(doc, **gold)\n",
      " 88%|████████▊ | 141/161 [00:02<00:00, 49.05it/s]/Users/Nagarwa/opt/anaconda3/envs/deeplearning/lib/python3.7/site-packages/spacy/language.py:482: UserWarning: [W030] Some entities could not be aligned in the text \"ALPHABET INC CAP STK CL C(GOOG)\t3.000 8.000\t1487.9...\" with entities \"[(26, 30, 'Ticker'), (32, 37, 'Quantity')]\". Use `spacy.gold.biluo_tags_from_offsets(nlp.make_doc(text), entities)` to check the alignment. Misaligned entities ('-') will be ignored during training.\n",
      "  gold = GoldParse(doc, **gold)\n",
      " 91%|█████████ | 146/161 [00:02<00:00, 48.29it/s]/Users/Nagarwa/opt/anaconda3/envs/deeplearning/lib/python3.7/site-packages/spacy/language.py:482: UserWarning: [W030] Some entities could not be aligned in the text \"ISHARES TR EAFE VALUE ETF(EFV)\t132.000\t25.9300\t342...\" with entities \"[(26, 29, 'Ticker')]\". Use `spacy.gold.biluo_tags_from_offsets(nlp.make_doc(text), entities)` to check the alignment. Misaligned entities ('-') will be ignored during training.\n",
      "  gold = GoldParse(doc, **gold)\n",
      " 94%|█████████▍| 151/161 [00:03<00:00, 48.72it/s]/Users/Nagarwa/opt/anaconda3/envs/deeplearning/lib/python3.7/site-packages/spacy/language.py:482: UserWarning: [W030] Some entities could not be aligned in the text \"ALPHABET INC CAP STK CL A(GOOGL)\t2.000\t3164.6800\t6...\" with entities \"[(26, 31, 'Ticker'), (33, 38, 'Quantity')]\". Use `spacy.gold.biluo_tags_from_offsets(nlp.make_doc(text), entities)` to check the alignment. Misaligned entities ('-') will be ignored during training.\n",
      "  gold = GoldParse(doc, **gold)\n",
      " 97%|█████████▋| 156/161 [00:03<00:00, 49.07it/s]/Users/Nagarwa/opt/anaconda3/envs/deeplearning/lib/python3.7/site-packages/spacy/language.py:482: UserWarning: [W030] Some entities could not be aligned in the text \"ICDONALD S CORP(MCD)\t6.000\t194.2800\t1165.68\t892.23...\" with entities \"[(16, 19, 'Ticker'), (21, 26, 'Quantity')]\". Use `spacy.gold.biluo_tags_from_offsets(nlp.make_doc(text), entities)` to check the alignment. Misaligned entities ('-') will be ignored during training.\n",
      "  gold = GoldParse(doc, **gold)\n",
      "/Users/Nagarwa/opt/anaconda3/envs/deeplearning/lib/python3.7/site-packages/spacy/language.py:482: UserWarning: [W030] Some entities could not be aligned in the text \"SCHWAB FUNDAMENTAL EM L/C(FNDE) VANGUARD TAX-MANAG...\" with entities \"[(26, 30, 'Ticker'), (66, 73, 'Quantity')]\". Use `spacy.gold.biluo_tags_from_offsets(nlp.make_doc(text), entities)` to check the alignment. Misaligned entities ('-') will be ignored during training.\n",
      "  gold = GoldParse(doc, **gold)\n",
      "100%|██████████| 161/161 [00:03<00:00, 49.00it/s]\n",
      "  3%|▎         | 5/161 [00:00<00:03, 49.81it/s]"
     ]
    },
    {
     "name": "stdout",
     "output_type": "stream",
     "text": [
      "{'ner': 416.94835379618235}\n"
     ]
    },
    {
     "name": "stderr",
     "output_type": "stream",
     "text": [
      "100%|██████████| 161/161 [00:02<00:00, 54.87it/s]\n",
      "  3%|▎         | 5/161 [00:00<00:03, 49.60it/s]"
     ]
    },
    {
     "name": "stdout",
     "output_type": "stream",
     "text": [
      "{'ner': 97.76371014816279}\n"
     ]
    },
    {
     "name": "stderr",
     "output_type": "stream",
     "text": [
      "100%|██████████| 161/161 [00:02<00:00, 55.36it/s]\n",
      "  4%|▎         | 6/161 [00:00<00:02, 54.90it/s]"
     ]
    },
    {
     "name": "stdout",
     "output_type": "stream",
     "text": [
      "{'ner': 84.09170385809023}\n"
     ]
    },
    {
     "name": "stderr",
     "output_type": "stream",
     "text": [
      "100%|██████████| 161/161 [00:03<00:00, 51.63it/s]\n",
      "  3%|▎         | 5/161 [00:00<00:03, 48.32it/s]"
     ]
    },
    {
     "name": "stdout",
     "output_type": "stream",
     "text": [
      "{'ner': 63.643050173740846}\n"
     ]
    },
    {
     "name": "stderr",
     "output_type": "stream",
     "text": [
      "100%|██████████| 161/161 [00:03<00:00, 46.83it/s]\n",
      "  4%|▎         | 6/161 [00:00<00:03, 49.64it/s]"
     ]
    },
    {
     "name": "stdout",
     "output_type": "stream",
     "text": [
      "{'ner': 58.211526964896684}\n"
     ]
    },
    {
     "name": "stderr",
     "output_type": "stream",
     "text": [
      "100%|██████████| 161/161 [00:03<00:00, 44.20it/s]\n",
      "  3%|▎         | 5/161 [00:00<00:03, 46.90it/s]"
     ]
    },
    {
     "name": "stdout",
     "output_type": "stream",
     "text": [
      "{'ner': 42.917314774096724}\n"
     ]
    },
    {
     "name": "stderr",
     "output_type": "stream",
     "text": [
      "100%|██████████| 161/161 [00:03<00:00, 45.82it/s]\n",
      "  3%|▎         | 5/161 [00:00<00:03, 41.50it/s]"
     ]
    },
    {
     "name": "stdout",
     "output_type": "stream",
     "text": [
      "{'ner': 49.7586564592624}\n"
     ]
    },
    {
     "name": "stderr",
     "output_type": "stream",
     "text": [
      "100%|██████████| 161/161 [00:03<00:00, 50.77it/s]\n",
      "  3%|▎         | 5/161 [00:00<00:03, 40.67it/s]"
     ]
    },
    {
     "name": "stdout",
     "output_type": "stream",
     "text": [
      "{'ner': 42.20696243707347}\n"
     ]
    },
    {
     "name": "stderr",
     "output_type": "stream",
     "text": [
      "100%|██████████| 161/161 [00:03<00:00, 48.80it/s]\n",
      "  3%|▎         | 5/161 [00:00<00:03, 45.33it/s]"
     ]
    },
    {
     "name": "stdout",
     "output_type": "stream",
     "text": [
      "{'ner': 34.882664318477}\n"
     ]
    },
    {
     "name": "stderr",
     "output_type": "stream",
     "text": [
      "100%|██████████| 161/161 [00:04<00:00, 39.67it/s]\n",
      "  3%|▎         | 5/161 [00:00<00:03, 40.06it/s]"
     ]
    },
    {
     "name": "stdout",
     "output_type": "stream",
     "text": [
      "{'ner': 35.0831264263105}\n"
     ]
    },
    {
     "name": "stderr",
     "output_type": "stream",
     "text": [
      "100%|██████████| 161/161 [00:04<00:00, 34.97it/s]\n",
      "  2%|▏         | 4/161 [00:00<00:04, 36.21it/s]"
     ]
    },
    {
     "name": "stdout",
     "output_type": "stream",
     "text": [
      "{'ner': 34.78935597510083}\n"
     ]
    },
    {
     "name": "stderr",
     "output_type": "stream",
     "text": [
      "100%|██████████| 161/161 [00:04<00:00, 33.61it/s]\n",
      "  2%|▏         | 4/161 [00:00<00:05, 30.36it/s]"
     ]
    },
    {
     "name": "stdout",
     "output_type": "stream",
     "text": [
      "{'ner': 33.21990181330937}\n"
     ]
    },
    {
     "name": "stderr",
     "output_type": "stream",
     "text": [
      "100%|██████████| 161/161 [00:04<00:00, 33.19it/s]\n",
      "  2%|▏         | 4/161 [00:00<00:04, 33.99it/s]"
     ]
    },
    {
     "name": "stdout",
     "output_type": "stream",
     "text": [
      "{'ner': 33.58279332082848}\n"
     ]
    },
    {
     "name": "stderr",
     "output_type": "stream",
     "text": [
      "100%|██████████| 161/161 [00:04<00:00, 33.16it/s]\n",
      "  2%|▏         | 4/161 [00:00<00:04, 34.73it/s]"
     ]
    },
    {
     "name": "stdout",
     "output_type": "stream",
     "text": [
      "{'ner': 31.570408405049463}\n"
     ]
    },
    {
     "name": "stderr",
     "output_type": "stream",
     "text": [
      "100%|██████████| 161/161 [00:04<00:00, 32.28it/s]\n",
      "  2%|▏         | 4/161 [00:00<00:04, 32.25it/s]"
     ]
    },
    {
     "name": "stdout",
     "output_type": "stream",
     "text": [
      "{'ner': 31.880582866280342}\n"
     ]
    },
    {
     "name": "stderr",
     "output_type": "stream",
     "text": [
      "100%|██████████| 161/161 [00:04<00:00, 32.46it/s]\n",
      "  2%|▏         | 4/161 [00:00<00:05, 29.59it/s]"
     ]
    },
    {
     "name": "stdout",
     "output_type": "stream",
     "text": [
      "{'ner': 22.972724834182163}\n"
     ]
    },
    {
     "name": "stderr",
     "output_type": "stream",
     "text": [
      "100%|██████████| 161/161 [00:04<00:00, 32.48it/s]\n",
      "  2%|▏         | 4/161 [00:00<00:04, 33.28it/s]"
     ]
    },
    {
     "name": "stdout",
     "output_type": "stream",
     "text": [
      "{'ner': 27.16712947150061}\n"
     ]
    },
    {
     "name": "stderr",
     "output_type": "stream",
     "text": [
      "100%|██████████| 161/161 [00:04<00:00, 32.55it/s]\n",
      "  2%|▏         | 4/161 [00:00<00:04, 33.68it/s]"
     ]
    },
    {
     "name": "stdout",
     "output_type": "stream",
     "text": [
      "{'ner': 20.778104282715926}\n"
     ]
    },
    {
     "name": "stderr",
     "output_type": "stream",
     "text": [
      "100%|██████████| 161/161 [00:05<00:00, 31.81it/s]\n",
      "  2%|▏         | 4/161 [00:00<00:04, 33.14it/s]"
     ]
    },
    {
     "name": "stdout",
     "output_type": "stream",
     "text": [
      "{'ner': 19.275340222639855}\n"
     ]
    },
    {
     "name": "stderr",
     "output_type": "stream",
     "text": [
      "100%|██████████| 161/161 [00:05<00:00, 32.19it/s]\n",
      "  2%|▏         | 3/161 [00:00<00:05, 29.69it/s]"
     ]
    },
    {
     "name": "stdout",
     "output_type": "stream",
     "text": [
      "{'ner': 18.975276094928542}\n"
     ]
    },
    {
     "name": "stderr",
     "output_type": "stream",
     "text": [
      "100%|██████████| 161/161 [00:04<00:00, 32.70it/s]\n",
      "  2%|▏         | 4/161 [00:00<00:04, 32.99it/s]"
     ]
    },
    {
     "name": "stdout",
     "output_type": "stream",
     "text": [
      "{'ner': 14.3927557587254}\n"
     ]
    },
    {
     "name": "stderr",
     "output_type": "stream",
     "text": [
      "100%|██████████| 161/161 [00:04<00:00, 32.69it/s]\n",
      "  2%|▏         | 4/161 [00:00<00:05, 31.02it/s]"
     ]
    },
    {
     "name": "stdout",
     "output_type": "stream",
     "text": [
      "{'ner': 15.408572561219698}\n"
     ]
    },
    {
     "name": "stderr",
     "output_type": "stream",
     "text": [
      "100%|██████████| 161/161 [00:05<00:00, 31.45it/s]\n",
      "  2%|▏         | 3/161 [00:00<00:06, 23.25it/s]"
     ]
    },
    {
     "name": "stdout",
     "output_type": "stream",
     "text": [
      "{'ner': 14.433303445662176}\n"
     ]
    },
    {
     "name": "stderr",
     "output_type": "stream",
     "text": [
      "100%|██████████| 161/161 [00:05<00:00, 29.72it/s]\n",
      "  2%|▏         | 3/161 [00:00<00:05, 29.83it/s]"
     ]
    },
    {
     "name": "stdout",
     "output_type": "stream",
     "text": [
      "{'ner': 19.75225504958395}\n"
     ]
    },
    {
     "name": "stderr",
     "output_type": "stream",
     "text": [
      "100%|██████████| 161/161 [00:05<00:00, 28.37it/s]\n",
      "  2%|▏         | 3/161 [00:00<00:05, 26.92it/s]"
     ]
    },
    {
     "name": "stdout",
     "output_type": "stream",
     "text": [
      "{'ner': 17.90111619535853}\n"
     ]
    },
    {
     "name": "stderr",
     "output_type": "stream",
     "text": [
      "100%|██████████| 161/161 [00:05<00:00, 28.56it/s]\n",
      "  2%|▏         | 3/161 [00:00<00:05, 29.95it/s]"
     ]
    },
    {
     "name": "stdout",
     "output_type": "stream",
     "text": [
      "{'ner': 16.94047031387999}\n"
     ]
    },
    {
     "name": "stderr",
     "output_type": "stream",
     "text": [
      "100%|██████████| 161/161 [00:05<00:00, 27.27it/s]\n",
      "  2%|▏         | 4/161 [00:00<00:05, 30.68it/s]"
     ]
    },
    {
     "name": "stdout",
     "output_type": "stream",
     "text": [
      "{'ner': 12.237572547801975}\n"
     ]
    },
    {
     "name": "stderr",
     "output_type": "stream",
     "text": [
      "100%|██████████| 161/161 [00:05<00:00, 27.71it/s]\n",
      "  2%|▏         | 3/161 [00:00<00:05, 27.82it/s]"
     ]
    },
    {
     "name": "stdout",
     "output_type": "stream",
     "text": [
      "{'ner': 14.137592416864182}\n"
     ]
    },
    {
     "name": "stderr",
     "output_type": "stream",
     "text": [
      "100%|██████████| 161/161 [00:05<00:00, 27.50it/s]\n",
      "  2%|▏         | 3/161 [00:00<00:05, 29.44it/s]"
     ]
    },
    {
     "name": "stdout",
     "output_type": "stream",
     "text": [
      "{'ner': 17.0226182830012}\n"
     ]
    },
    {
     "name": "stderr",
     "output_type": "stream",
     "text": [
      "100%|██████████| 161/161 [00:05<00:00, 27.70it/s]\n",
      "  2%|▏         | 3/161 [00:00<00:05, 29.93it/s]"
     ]
    },
    {
     "name": "stdout",
     "output_type": "stream",
     "text": [
      "{'ner': 18.460175223456353}\n"
     ]
    },
    {
     "name": "stderr",
     "output_type": "stream",
     "text": [
      "100%|██████████| 161/161 [00:05<00:00, 28.72it/s]\n",
      "  2%|▏         | 3/161 [00:00<00:05, 29.19it/s]"
     ]
    },
    {
     "name": "stdout",
     "output_type": "stream",
     "text": [
      "{'ner': 22.798607344736748}\n"
     ]
    },
    {
     "name": "stderr",
     "output_type": "stream",
     "text": [
      "100%|██████████| 161/161 [00:05<00:00, 30.13it/s]\n",
      "  2%|▏         | 3/161 [00:00<00:05, 27.04it/s]"
     ]
    },
    {
     "name": "stdout",
     "output_type": "stream",
     "text": [
      "{'ner': 12.660035871021222}\n"
     ]
    },
    {
     "name": "stderr",
     "output_type": "stream",
     "text": [
      "100%|██████████| 161/161 [00:05<00:00, 31.18it/s]\n",
      "  2%|▏         | 4/161 [00:00<00:05, 30.16it/s]"
     ]
    },
    {
     "name": "stdout",
     "output_type": "stream",
     "text": [
      "{'ner': 15.248650209642337}\n"
     ]
    },
    {
     "name": "stderr",
     "output_type": "stream",
     "text": [
      "100%|██████████| 161/161 [00:05<00:00, 30.87it/s]\n",
      "  2%|▏         | 4/161 [00:00<00:04, 32.31it/s]"
     ]
    },
    {
     "name": "stdout",
     "output_type": "stream",
     "text": [
      "{'ner': 12.055312382034113}\n"
     ]
    },
    {
     "name": "stderr",
     "output_type": "stream",
     "text": [
      "100%|██████████| 161/161 [00:05<00:00, 30.05it/s]\n",
      "  2%|▏         | 4/161 [00:00<00:05, 31.05it/s]"
     ]
    },
    {
     "name": "stdout",
     "output_type": "stream",
     "text": [
      "{'ner': 12.20701632685618}\n"
     ]
    },
    {
     "name": "stderr",
     "output_type": "stream",
     "text": [
      "100%|██████████| 161/161 [00:05<00:00, 29.83it/s]\n",
      "  2%|▏         | 4/161 [00:00<00:04, 33.48it/s]"
     ]
    },
    {
     "name": "stdout",
     "output_type": "stream",
     "text": [
      "{'ner': 14.853708623531624}\n"
     ]
    },
    {
     "name": "stderr",
     "output_type": "stream",
     "text": [
      "100%|██████████| 161/161 [00:05<00:00, 29.33it/s]\n",
      "  2%|▏         | 3/161 [00:00<00:06, 26.18it/s]"
     ]
    },
    {
     "name": "stdout",
     "output_type": "stream",
     "text": [
      "{'ner': 8.660259672587708}\n"
     ]
    },
    {
     "name": "stderr",
     "output_type": "stream",
     "text": [
      "100%|██████████| 161/161 [00:05<00:00, 29.16it/s]\n",
      "  2%|▏         | 4/161 [00:00<00:05, 27.46it/s]"
     ]
    },
    {
     "name": "stdout",
     "output_type": "stream",
     "text": [
      "{'ner': 7.069778380022537}\n"
     ]
    },
    {
     "name": "stderr",
     "output_type": "stream",
     "text": [
      "100%|██████████| 161/161 [00:05<00:00, 28.37it/s]\n",
      "  2%|▏         | 3/161 [00:00<00:05, 27.42it/s]"
     ]
    },
    {
     "name": "stdout",
     "output_type": "stream",
     "text": [
      "{'ner': 7.761903115010026}\n"
     ]
    },
    {
     "name": "stderr",
     "output_type": "stream",
     "text": [
      "100%|██████████| 161/161 [00:05<00:00, 28.93it/s]\n",
      "  2%|▏         | 4/161 [00:00<00:04, 33.85it/s]"
     ]
    },
    {
     "name": "stdout",
     "output_type": "stream",
     "text": [
      "{'ner': 12.528929857667965}\n"
     ]
    },
    {
     "name": "stderr",
     "output_type": "stream",
     "text": [
      "100%|██████████| 161/161 [00:05<00:00, 28.74it/s]\n",
      "  2%|▏         | 3/161 [00:00<00:05, 27.28it/s]"
     ]
    },
    {
     "name": "stdout",
     "output_type": "stream",
     "text": [
      "{'ner': 3.659007235734686}\n"
     ]
    },
    {
     "name": "stderr",
     "output_type": "stream",
     "text": [
      "100%|██████████| 161/161 [00:05<00:00, 29.25it/s]\n",
      "  2%|▏         | 3/161 [00:00<00:05, 29.98it/s]"
     ]
    },
    {
     "name": "stdout",
     "output_type": "stream",
     "text": [
      "{'ner': 8.624903992549015}\n"
     ]
    },
    {
     "name": "stderr",
     "output_type": "stream",
     "text": [
      "100%|██████████| 161/161 [00:05<00:00, 28.37it/s]\n",
      "  2%|▏         | 3/161 [00:00<00:06, 25.38it/s]"
     ]
    },
    {
     "name": "stdout",
     "output_type": "stream",
     "text": [
      "{'ner': 7.658460420155096}\n"
     ]
    },
    {
     "name": "stderr",
     "output_type": "stream",
     "text": [
      "100%|██████████| 161/161 [00:05<00:00, 27.72it/s]\n",
      "  2%|▏         | 3/161 [00:00<00:05, 29.68it/s]"
     ]
    },
    {
     "name": "stdout",
     "output_type": "stream",
     "text": [
      "{'ner': 6.880695776923149}\n"
     ]
    },
    {
     "name": "stderr",
     "output_type": "stream",
     "text": [
      "100%|██████████| 161/161 [00:05<00:00, 28.00it/s]\n",
      "  2%|▏         | 3/161 [00:00<00:06, 22.88it/s]"
     ]
    },
    {
     "name": "stdout",
     "output_type": "stream",
     "text": [
      "{'ner': 11.578226608284501}\n"
     ]
    },
    {
     "name": "stderr",
     "output_type": "stream",
     "text": [
      "100%|██████████| 161/161 [00:06<00:00, 26.73it/s]\n",
      "  4%|▎         | 6/161 [00:00<00:05, 29.60it/s]"
     ]
    },
    {
     "name": "stdout",
     "output_type": "stream",
     "text": [
      "{'ner': 6.151794570590278}\n"
     ]
    },
    {
     "name": "stderr",
     "output_type": "stream",
     "text": [
      "100%|██████████| 161/161 [00:05<00:00, 26.96it/s]\n",
      "  2%|▏         | 4/161 [00:00<00:05, 29.22it/s]"
     ]
    },
    {
     "name": "stdout",
     "output_type": "stream",
     "text": [
      "{'ner': 8.68358654478017}\n"
     ]
    },
    {
     "name": "stderr",
     "output_type": "stream",
     "text": [
      "100%|██████████| 161/161 [00:06<00:00, 26.16it/s]\n",
      "  2%|▏         | 3/161 [00:00<00:06, 24.87it/s]"
     ]
    },
    {
     "name": "stdout",
     "output_type": "stream",
     "text": [
      "{'ner': 9.986006231567409}\n"
     ]
    },
    {
     "name": "stderr",
     "output_type": "stream",
     "text": [
      "100%|██████████| 161/161 [00:05<00:00, 27.84it/s]\n",
      "  2%|▏         | 3/161 [00:00<00:05, 28.83it/s]"
     ]
    },
    {
     "name": "stdout",
     "output_type": "stream",
     "text": [
      "{'ner': 13.77583827696653}\n"
     ]
    },
    {
     "name": "stderr",
     "output_type": "stream",
     "text": [
      "100%|██████████| 161/161 [00:05<00:00, 28.14it/s]\n",
      "  2%|▏         | 3/161 [00:00<00:05, 27.84it/s]"
     ]
    },
    {
     "name": "stdout",
     "output_type": "stream",
     "text": [
      "{'ner': 5.357064830810334}\n"
     ]
    },
    {
     "name": "stderr",
     "output_type": "stream",
     "text": [
      "100%|██████████| 161/161 [00:05<00:00, 26.86it/s]\n",
      "  2%|▏         | 3/161 [00:00<00:05, 28.63it/s]"
     ]
    },
    {
     "name": "stdout",
     "output_type": "stream",
     "text": [
      "{'ner': 21.170738421729123}\n"
     ]
    },
    {
     "name": "stderr",
     "output_type": "stream",
     "text": [
      "100%|██████████| 161/161 [00:05<00:00, 27.23it/s]\n",
      "  2%|▏         | 3/161 [00:00<00:05, 28.79it/s]"
     ]
    },
    {
     "name": "stdout",
     "output_type": "stream",
     "text": [
      "{'ner': 9.962694266959232}\n"
     ]
    },
    {
     "name": "stderr",
     "output_type": "stream",
     "text": [
      "100%|██████████| 161/161 [00:05<00:00, 28.30it/s]\n",
      "  2%|▏         | 3/161 [00:00<00:06, 26.16it/s]"
     ]
    },
    {
     "name": "stdout",
     "output_type": "stream",
     "text": [
      "{'ner': 1.6442714607182911}\n"
     ]
    },
    {
     "name": "stderr",
     "output_type": "stream",
     "text": [
      "100%|██████████| 161/161 [00:05<00:00, 28.10it/s]\n",
      "  2%|▏         | 3/161 [00:00<00:05, 26.62it/s]"
     ]
    },
    {
     "name": "stdout",
     "output_type": "stream",
     "text": [
      "{'ner': 7.974896784624607}\n"
     ]
    },
    {
     "name": "stderr",
     "output_type": "stream",
     "text": [
      "100%|██████████| 161/161 [00:05<00:00, 27.48it/s]\n",
      "  1%|          | 2/161 [00:00<00:08, 17.88it/s]"
     ]
    },
    {
     "name": "stdout",
     "output_type": "stream",
     "text": [
      "{'ner': 6.148697888552733}\n"
     ]
    },
    {
     "name": "stderr",
     "output_type": "stream",
     "text": [
      "100%|██████████| 161/161 [00:06<00:00, 26.32it/s]\n",
      "  2%|▏         | 3/161 [00:00<00:05, 26.81it/s]"
     ]
    },
    {
     "name": "stdout",
     "output_type": "stream",
     "text": [
      "{'ner': 4.589433825759526}\n"
     ]
    },
    {
     "name": "stderr",
     "output_type": "stream",
     "text": [
      "100%|██████████| 161/161 [00:06<00:00, 26.56it/s]\n",
      "  2%|▏         | 3/161 [00:00<00:05, 27.29it/s]"
     ]
    },
    {
     "name": "stdout",
     "output_type": "stream",
     "text": [
      "{'ner': 6.173660962572659}\n"
     ]
    },
    {
     "name": "stderr",
     "output_type": "stream",
     "text": [
      "100%|██████████| 161/161 [00:06<00:00, 26.49it/s]\n",
      "  2%|▏         | 3/161 [00:00<00:06, 26.27it/s]"
     ]
    },
    {
     "name": "stdout",
     "output_type": "stream",
     "text": [
      "{'ner': 3.8386360569836877}\n"
     ]
    },
    {
     "name": "stderr",
     "output_type": "stream",
     "text": [
      "100%|██████████| 161/161 [00:05<00:00, 26.84it/s]\n",
      "  2%|▏         | 3/161 [00:00<00:05, 27.03it/s]"
     ]
    },
    {
     "name": "stdout",
     "output_type": "stream",
     "text": [
      "{'ner': 0.011115346135869368}\n"
     ]
    },
    {
     "name": "stderr",
     "output_type": "stream",
     "text": [
      "100%|██████████| 161/161 [00:05<00:00, 27.53it/s]\n",
      "  2%|▏         | 3/161 [00:00<00:06, 23.28it/s]"
     ]
    },
    {
     "name": "stdout",
     "output_type": "stream",
     "text": [
      "{'ner': 0.03736461797218364}\n"
     ]
    },
    {
     "name": "stderr",
     "output_type": "stream",
     "text": [
      "100%|██████████| 161/161 [00:05<00:00, 27.64it/s]\n",
      "  2%|▏         | 3/161 [00:00<00:05, 28.01it/s]"
     ]
    },
    {
     "name": "stdout",
     "output_type": "stream",
     "text": [
      "{'ner': 5.924467813951638}\n"
     ]
    },
    {
     "name": "stderr",
     "output_type": "stream",
     "text": [
      "100%|██████████| 161/161 [00:05<00:00, 27.82it/s]\n",
      "  2%|▏         | 3/161 [00:00<00:05, 27.88it/s]"
     ]
    },
    {
     "name": "stdout",
     "output_type": "stream",
     "text": [
      "{'ner': 10.570116965856487}\n"
     ]
    },
    {
     "name": "stderr",
     "output_type": "stream",
     "text": [
      "100%|██████████| 161/161 [00:05<00:00, 28.43it/s]\n",
      "  2%|▏         | 3/161 [00:00<00:06, 25.11it/s]"
     ]
    },
    {
     "name": "stdout",
     "output_type": "stream",
     "text": [
      "{'ner': 4.007610644610702}\n"
     ]
    },
    {
     "name": "stderr",
     "output_type": "stream",
     "text": [
      "100%|██████████| 161/161 [00:05<00:00, 27.87it/s]\n",
      "  2%|▏         | 3/161 [00:00<00:06, 25.95it/s]"
     ]
    },
    {
     "name": "stdout",
     "output_type": "stream",
     "text": [
      "{'ner': 10.715956527024009}\n"
     ]
    },
    {
     "name": "stderr",
     "output_type": "stream",
     "text": [
      "100%|██████████| 161/161 [00:05<00:00, 28.74it/s]\n",
      "  2%|▏         | 3/161 [00:00<00:05, 28.24it/s]"
     ]
    },
    {
     "name": "stdout",
     "output_type": "stream",
     "text": [
      "{'ner': 12.570993657262699}\n"
     ]
    },
    {
     "name": "stderr",
     "output_type": "stream",
     "text": [
      "100%|██████████| 161/161 [00:05<00:00, 28.48it/s]\n",
      "  2%|▏         | 3/161 [00:00<00:05, 26.81it/s]"
     ]
    },
    {
     "name": "stdout",
     "output_type": "stream",
     "text": [
      "{'ner': 10.077106851005214}\n"
     ]
    },
    {
     "name": "stderr",
     "output_type": "stream",
     "text": [
      "100%|██████████| 161/161 [00:05<00:00, 28.20it/s]\n",
      "  2%|▏         | 3/161 [00:00<00:06, 23.79it/s]"
     ]
    },
    {
     "name": "stdout",
     "output_type": "stream",
     "text": [
      "{'ner': 10.08171743751197}\n"
     ]
    },
    {
     "name": "stderr",
     "output_type": "stream",
     "text": [
      "100%|██████████| 161/161 [00:05<00:00, 27.70it/s]\n",
      "  2%|▏         | 3/161 [00:00<00:06, 25.45it/s]"
     ]
    },
    {
     "name": "stdout",
     "output_type": "stream",
     "text": [
      "{'ner': 3.9999609862214482}\n"
     ]
    },
    {
     "name": "stderr",
     "output_type": "stream",
     "text": [
      "100%|██████████| 161/161 [00:06<00:00, 25.81it/s]\n",
      "  2%|▏         | 3/161 [00:00<00:05, 27.07it/s]"
     ]
    },
    {
     "name": "stdout",
     "output_type": "stream",
     "text": [
      "{'ner': 4.237772827424846}\n"
     ]
    },
    {
     "name": "stderr",
     "output_type": "stream",
     "text": [
      "100%|██████████| 161/161 [00:06<00:00, 26.35it/s]\n",
      "  2%|▏         | 3/161 [00:00<00:06, 24.53it/s]"
     ]
    },
    {
     "name": "stdout",
     "output_type": "stream",
     "text": [
      "{'ner': 0.04466928916670259}\n"
     ]
    },
    {
     "name": "stderr",
     "output_type": "stream",
     "text": [
      "100%|██████████| 161/161 [00:06<00:00, 25.96it/s]\n",
      "  2%|▏         | 3/161 [00:00<00:06, 25.81it/s]"
     ]
    },
    {
     "name": "stdout",
     "output_type": "stream",
     "text": [
      "{'ner': 5.957470179917598}\n"
     ]
    },
    {
     "name": "stderr",
     "output_type": "stream",
     "text": [
      "100%|██████████| 161/161 [00:06<00:00, 25.39it/s]\n",
      "  2%|▏         | 4/161 [00:00<00:05, 29.90it/s]"
     ]
    },
    {
     "name": "stdout",
     "output_type": "stream",
     "text": [
      "{'ner': 9.789240484433032}\n"
     ]
    },
    {
     "name": "stderr",
     "output_type": "stream",
     "text": [
      "100%|██████████| 161/161 [00:06<00:00, 26.29it/s]\n",
      "  2%|▏         | 3/161 [00:00<00:07, 21.35it/s]"
     ]
    },
    {
     "name": "stdout",
     "output_type": "stream",
     "text": [
      "{'ner': 0.1440906457680961}\n"
     ]
    },
    {
     "name": "stderr",
     "output_type": "stream",
     "text": [
      "100%|██████████| 161/161 [00:06<00:00, 26.24it/s]\n",
      "  2%|▏         | 4/161 [00:00<00:05, 31.13it/s]"
     ]
    },
    {
     "name": "stdout",
     "output_type": "stream",
     "text": [
      "{'ner': 17.09734691797189}\n"
     ]
    },
    {
     "name": "stderr",
     "output_type": "stream",
     "text": [
      "100%|██████████| 161/161 [00:06<00:00, 25.91it/s]\n",
      "  2%|▏         | 3/161 [00:00<00:06, 24.68it/s]"
     ]
    },
    {
     "name": "stdout",
     "output_type": "stream",
     "text": [
      "{'ner': 2.5595408348252273}\n"
     ]
    },
    {
     "name": "stderr",
     "output_type": "stream",
     "text": [
      "100%|██████████| 161/161 [00:06<00:00, 26.69it/s]\n",
      "  2%|▏         | 3/161 [00:00<00:06, 24.76it/s]"
     ]
    },
    {
     "name": "stdout",
     "output_type": "stream",
     "text": [
      "{'ner': 9.944188242711782}\n"
     ]
    },
    {
     "name": "stderr",
     "output_type": "stream",
     "text": [
      "100%|██████████| 161/161 [00:06<00:00, 26.56it/s]\n",
      "  2%|▏         | 3/161 [00:00<00:05, 26.56it/s]"
     ]
    },
    {
     "name": "stdout",
     "output_type": "stream",
     "text": [
      "{'ner': 3.8949858796749934}\n"
     ]
    },
    {
     "name": "stderr",
     "output_type": "stream",
     "text": [
      "100%|██████████| 161/161 [00:06<00:00, 25.87it/s]\n",
      "  2%|▏         | 3/161 [00:00<00:07, 21.34it/s]"
     ]
    },
    {
     "name": "stdout",
     "output_type": "stream",
     "text": [
      "{'ner': 4.086678120912407}\n"
     ]
    },
    {
     "name": "stderr",
     "output_type": "stream",
     "text": [
      "100%|██████████| 161/161 [00:06<00:00, 25.55it/s]\n",
      "  2%|▏         | 3/161 [00:00<00:05, 27.09it/s]"
     ]
    },
    {
     "name": "stdout",
     "output_type": "stream",
     "text": [
      "{'ner': 0.8971172611508315}\n"
     ]
    },
    {
     "name": "stderr",
     "output_type": "stream",
     "text": [
      "100%|██████████| 161/161 [00:06<00:00, 25.95it/s]\n",
      "  1%|          | 2/161 [00:00<00:08, 19.58it/s]"
     ]
    },
    {
     "name": "stdout",
     "output_type": "stream",
     "text": [
      "{'ner': 1.9940396907856726}\n"
     ]
    },
    {
     "name": "stderr",
     "output_type": "stream",
     "text": [
      "100%|██████████| 161/161 [00:06<00:00, 26.22it/s]\n",
      "  2%|▏         | 3/161 [00:00<00:05, 27.83it/s]"
     ]
    },
    {
     "name": "stdout",
     "output_type": "stream",
     "text": [
      "{'ner': 6.718312019139521}\n"
     ]
    },
    {
     "name": "stderr",
     "output_type": "stream",
     "text": [
      "100%|██████████| 161/161 [00:06<00:00, 26.61it/s]\n",
      "  2%|▏         | 4/161 [00:00<00:05, 30.38it/s]"
     ]
    },
    {
     "name": "stdout",
     "output_type": "stream",
     "text": [
      "{'ner': 16.882851430292575}\n"
     ]
    },
    {
     "name": "stderr",
     "output_type": "stream",
     "text": [
      "100%|██████████| 161/161 [00:05<00:00, 27.49it/s]\n",
      "  2%|▏         | 4/161 [00:00<00:04, 32.60it/s]"
     ]
    },
    {
     "name": "stdout",
     "output_type": "stream",
     "text": [
      "{'ner': 7.981361106408049}\n"
     ]
    },
    {
     "name": "stderr",
     "output_type": "stream",
     "text": [
      "100%|██████████| 161/161 [00:06<00:00, 25.97it/s]\n",
      "  2%|▏         | 3/161 [00:00<00:06, 25.04it/s]"
     ]
    },
    {
     "name": "stdout",
     "output_type": "stream",
     "text": [
      "{'ner': 12.233846386466702}\n"
     ]
    },
    {
     "name": "stderr",
     "output_type": "stream",
     "text": [
      "100%|██████████| 161/161 [00:06<00:00, 25.49it/s]\n",
      "  2%|▏         | 3/161 [00:00<00:05, 29.69it/s]"
     ]
    },
    {
     "name": "stdout",
     "output_type": "stream",
     "text": [
      "{'ner': 11.775519153464748}\n"
     ]
    },
    {
     "name": "stderr",
     "output_type": "stream",
     "text": [
      "100%|██████████| 161/161 [00:06<00:00, 25.84it/s]\n",
      "  2%|▏         | 3/161 [00:00<00:06, 24.88it/s]"
     ]
    },
    {
     "name": "stdout",
     "output_type": "stream",
     "text": [
      "{'ner': 8.089609681139638}\n"
     ]
    },
    {
     "name": "stderr",
     "output_type": "stream",
     "text": [
      "100%|██████████| 161/161 [00:06<00:00, 26.14it/s]\n",
      "  2%|▏         | 3/161 [00:00<00:05, 27.50it/s]"
     ]
    },
    {
     "name": "stdout",
     "output_type": "stream",
     "text": [
      "{'ner': 4.377775489637934}\n"
     ]
    },
    {
     "name": "stderr",
     "output_type": "stream",
     "text": [
      "100%|██████████| 161/161 [00:06<00:00, 26.40it/s]\n",
      "  2%|▏         | 3/161 [00:00<00:05, 29.15it/s]"
     ]
    },
    {
     "name": "stdout",
     "output_type": "stream",
     "text": [
      "{'ner': 1.9945388112433473}\n"
     ]
    },
    {
     "name": "stderr",
     "output_type": "stream",
     "text": [
      "100%|██████████| 161/161 [00:06<00:00, 25.43it/s]\n",
      "  2%|▏         | 3/161 [00:00<00:05, 26.92it/s]"
     ]
    },
    {
     "name": "stdout",
     "output_type": "stream",
     "text": [
      "{'ner': 9.678491020924369}\n"
     ]
    },
    {
     "name": "stderr",
     "output_type": "stream",
     "text": [
      "100%|██████████| 161/161 [00:06<00:00, 25.38it/s]\n",
      "  2%|▏         | 3/161 [00:00<00:06, 25.78it/s]"
     ]
    },
    {
     "name": "stdout",
     "output_type": "stream",
     "text": [
      "{'ner': 1.5047743062529265e-06}\n"
     ]
    },
    {
     "name": "stderr",
     "output_type": "stream",
     "text": [
      "100%|██████████| 161/161 [00:06<00:00, 25.53it/s]\n",
      "  2%|▏         | 3/161 [00:00<00:05, 28.88it/s]"
     ]
    },
    {
     "name": "stdout",
     "output_type": "stream",
     "text": [
      "{'ner': 7.758163016074778}\n"
     ]
    },
    {
     "name": "stderr",
     "output_type": "stream",
     "text": [
      "100%|██████████| 161/161 [00:06<00:00, 25.74it/s]\n",
      "  2%|▏         | 3/161 [00:00<00:05, 28.31it/s]"
     ]
    },
    {
     "name": "stdout",
     "output_type": "stream",
     "text": [
      "{'ner': 5.9829936086388456}\n"
     ]
    },
    {
     "name": "stderr",
     "output_type": "stream",
     "text": [
      "100%|██████████| 161/161 [00:06<00:00, 25.48it/s]\n",
      "  2%|▏         | 3/161 [00:00<00:05, 28.73it/s]"
     ]
    },
    {
     "name": "stdout",
     "output_type": "stream",
     "text": [
      "{'ner': 2.0162158798928385}\n"
     ]
    },
    {
     "name": "stderr",
     "output_type": "stream",
     "text": [
      "100%|██████████| 161/161 [00:06<00:00, 25.84it/s]\n",
      "  2%|▏         | 3/161 [00:00<00:06, 24.18it/s]"
     ]
    },
    {
     "name": "stdout",
     "output_type": "stream",
     "text": [
      "{'ner': 5.716106207952317}\n"
     ]
    },
    {
     "name": "stderr",
     "output_type": "stream",
     "text": [
      "100%|██████████| 161/161 [00:06<00:00, 25.71it/s]\n",
      "  2%|▏         | 4/161 [00:00<00:05, 30.86it/s]"
     ]
    },
    {
     "name": "stdout",
     "output_type": "stream",
     "text": [
      "{'ner': 1.5712632000237326e-09}\n"
     ]
    },
    {
     "name": "stderr",
     "output_type": "stream",
     "text": [
      "100%|██████████| 161/161 [00:06<00:00, 25.65it/s]\n",
      "  2%|▏         | 3/161 [00:00<00:05, 26.77it/s]"
     ]
    },
    {
     "name": "stdout",
     "output_type": "stream",
     "text": [
      "{'ner': 0.08230118915484999}\n"
     ]
    },
    {
     "name": "stderr",
     "output_type": "stream",
     "text": [
      "100%|██████████| 161/161 [00:06<00:00, 25.15it/s]\n",
      "  2%|▏         | 3/161 [00:00<00:05, 29.17it/s]"
     ]
    },
    {
     "name": "stdout",
     "output_type": "stream",
     "text": [
      "{'ner': 3.987297548100887}\n"
     ]
    },
    {
     "name": "stderr",
     "output_type": "stream",
     "text": [
      "100%|██████████| 161/161 [00:06<00:00, 24.78it/s]\n",
      "  2%|▏         | 3/161 [00:00<00:06, 23.66it/s]"
     ]
    },
    {
     "name": "stdout",
     "output_type": "stream",
     "text": [
      "{'ner': 2.0019866562893815}\n"
     ]
    },
    {
     "name": "stderr",
     "output_type": "stream",
     "text": [
      "100%|██████████| 161/161 [00:06<00:00, 24.65it/s]\n",
      "  2%|▏         | 3/161 [00:00<00:06, 24.91it/s]"
     ]
    },
    {
     "name": "stdout",
     "output_type": "stream",
     "text": [
      "{'ner': 1.7049108757148603}\n"
     ]
    },
    {
     "name": "stderr",
     "output_type": "stream",
     "text": [
      "100%|██████████| 161/161 [00:06<00:00, 24.83it/s]"
     ]
    },
    {
     "name": "stdout",
     "output_type": "stream",
     "text": [
      "{'ner': 3.6390739679341118}\n"
     ]
    },
    {
     "name": "stderr",
     "output_type": "stream",
     "text": [
      "\n"
     ]
    }
   ],
   "source": [
    "for _, annotations in TRAIN_DATA:\n",
    "    for ent in annotations.get('entities'):\n",
    "        ner.add_label(ent[2])\n",
    "\n",
    "other_pipes = [pipe for pipe in nlp.pipe_names if pipe != 'ner']\n",
    "with nlp.disable_pipes(*other_pipes):  # only train NER\n",
    "    optimizer = nlp.begin_training()\n",
    "    for itn in range(n_iter):\n",
    "        random.shuffle(TRAIN_DATA)\n",
    "        losses = {}\n",
    "        for text, annotations in tqdm(TRAIN_DATA):\n",
    "            nlp.update(\n",
    "                [text],  \n",
    "                [annotations],  \n",
    "                drop=0.5,  \n",
    "                sgd=optimizer,\n",
    "                losses=losses)\n",
    "        print(losses)"
   ]
  },
  {
   "cell_type": "code",
   "execution_count": 7,
   "metadata": {},
   "outputs": [
    {
     "name": "stdout",
     "output_type": "stream",
     "text": [
      "Entities [('13.000', 'Quantity')]\n",
      "Entities [('VTI', 'Ticker'), ('63.000', 'Quantity')]\n",
      "Entities [('VTV', 'Ticker'), ('86.133', 'Quantity')]\n",
      "Entities [('NEW(EWU', 'Ticker'), ('87.000', 'Quantity')]\n",
      "Entities [('DUK', 'Ticker'), ('156.000', 'Quantity'), ('32.0000', 'Quantity')]\n",
      "Entities [('BBJP', 'Ticker'), ('80.489', 'Quantity')]\n",
      "Entities [('3.000', 'Quantity')]\n",
      "Entities [('VO', 'Ticker'), ('30.931', 'Quantity')]\n",
      "Entities [('SUB', 'Ticker'), ('116.000', 'Quantity')]\n",
      "Entities [('PFE', 'Ticker'), ('139.000', 'Quantity')]\n",
      "Entities [('VMBS', 'Ticker'), ('95.000', 'Quantity')]\n",
      "Entities [('VTEB', 'Ticker'), ('362.000', 'Quantity')]\n",
      "Entities [('VEA', 'Ticker'), ('38.000', 'Quantity')]\n",
      "Entities [('SCHM', 'Ticker'), ('23.000', 'Quantity')]\n",
      "Entities [('57.012', 'Quantity')]\n",
      "Entities [('LYFT', 'Ticker'), ('57.000', 'Quantity')]\n",
      "Entities [('CRANX', 'Ticker'), ('370.072', 'Quantity')]\n",
      "Entities [('6.000', 'Quantity')]\n",
      "Entities [('VCIT', 'Ticker'), ('115.000', 'Quantity')]\n",
      "Entities [('BBJP', 'Ticker')]\n",
      "Entities [('53.000', 'Quantity')]\n",
      "Entities [('3.000', 'Quantity')]\n",
      "Entities [('51.000', 'Quantity')]\n",
      "Entities [('VEA', 'Ticker')]\n",
      "Entities [('USSG', 'Ticker'), ('91.000', 'Quantity')]\n",
      "Entities [('148.9100', 'Quantity')]\n",
      "Entities [('KO', 'Ticker'), ('65.000', 'Quantity')]\n",
      "Entities [('VEA', 'Ticker'), ('17.000', 'Quantity')]\n",
      "Entities [('BSV', 'Ticker'), ('184.000', 'Quantity')]\n",
      "Entities [('MSTBX', 'Ticker'), ('452.233', 'Quantity')]\n",
      "Entities [('245.000', 'Quantity')]\n",
      "Entities [('AMGN', 'Ticker'), ('15.000', 'Quantity')]\n",
      "Entities [('SCHP', 'Ticker'), ('28.738', 'Quantity')]\n",
      "Entities [('FDRXX', 'Ticker'), ('1594.840', 'Quantity')]\n",
      "Entities [('65.000', 'Quantity')]\n",
      "Entities [('81.466', 'Quantity')]\n",
      "Entities [('DBEF', 'Ticker'), ('381.000', 'Quantity')]\n",
      "Entities [('VFH', 'Ticker'), ('27.000', 'Quantity')]\n",
      "Entities [('113.000', 'Quantity')]\n",
      "Entities [('BSV', 'Ticker'), ('24.000', 'Quantity')]\n",
      "Entities [('BBJP', 'Ticker'), ('182.000', 'Quantity')]\n",
      "Entities [('188.000', 'Quantity')]\n",
      "Entities [('EWG', 'Ticker'), ('103.000', 'Quantity')]\n",
      "Entities [('17.000', 'Quantity')]\n",
      "Entities [('BBJP', 'Ticker'), ('125.000', 'Quantity')]\n",
      "Entities [('VGLT', 'Ticker'), ('16.000', 'Quantity')]\n",
      "Entities [('BBJP', 'Ticker'), ('29.000', 'Quantity')]\n",
      "Entities [('31.000', 'Quantity')]\n",
      "Entities [('14.695', 'Quantity')]\n",
      "Entities [('VEA', 'Ticker'), ('109.000', 'Quantity')]\n",
      "Entities [('ANTM', 'Ticker'), ('1662.1300', 'Quantity')]\n",
      "Entities [('SCHO', 'Ticker'), ('155.000', 'Quantity')]\n",
      "Entities [('MOAT', 'Ticker'), ('54.000', 'Quantity')]\n",
      "Entities [('MSFT', 'Ticker'), ('50.000', 'Quantity')]\n",
      "Entities [('VEA', 'Ticker'), ('217.000', 'Quantity')]\n",
      "Entities [('151.000', 'Quantity')]\n",
      "Entities [('SCHP', 'Ticker'), ('28.000', 'Quantity')]\n",
      "Entities [('VEA', 'Ticker'), ('72.923', 'Quantity')]\n",
      "Entities [('2.000', 'Quantity')]\n",
      "Entities []\n",
      "Entities [('43.000', 'Quantity')]\n",
      "Entities [('AGEYX', 'Ticker'), ('536.966', 'Quantity')]\n",
      "Entities [('VGIT', 'Ticker'), ('272.000', 'Quantity')]\n",
      "Entities []\n",
      "Entities [('SCHP', 'Ticker'), ('95.000', 'Quantity')]\n",
      "Entities [('80.000', 'Quantity')]\n",
      "Entities [('23.000', 'Quantity')]\n",
      "Entities [('49.000', 'Quantity')]\n",
      "Entities [('129.000', 'Quantity')]\n",
      "Entities [('WPP', 'Ticker'), ('32.000', 'Quantity')]\n",
      "Entities [('EWG', 'Ticker'), ('76.000', 'Quantity')]\n",
      "Entities [('286.000', 'Quantity')]\n",
      "Entities [('PFPMX', 'Ticker'), ('54.164', 'Quantity')]\n",
      "Entities [('VWO', 'Ticker'), ('VTV', 'Ticker'), ('15.000', 'Quantity'), ('103.3100', 'Quantity')]\n",
      "Entities [('BND', 'Ticker'), ('72.000', 'Quantity')]\n",
      "Entities [('VTI', 'Ticker'), ('BND', 'Ticker'), ('17.265', 'Quantity')]\n",
      "Entities [('223.000', 'Quantity')]\n",
      "Entities [('VTV', 'Ticker'), ('375.000', 'Quantity')]\n",
      "Entities [('BND', 'Ticker'), ('741.000', 'Quantity')]\n",
      "Entities [('1245.000', 'Quantity')]\n",
      "Entities [('30.000', 'Quantity')]\n",
      "Entities [('51.000', 'Quantity')]\n",
      "Entities [('SCHP', 'Ticker'), ('BSV', 'Ticker'), ('33.000', 'Quantity'), ('83.3000', 'Quantity')]\n",
      "Entities [('SCHR', 'Ticker'), ('2540.77', 'Quantity')]\n",
      "Entities [('6.000', 'Quantity')]\n",
      "Entities [('23.000', 'Quantity')]\n",
      "Entities [('VFH', 'Ticker'), ('49.000', 'Quantity')]\n",
      "Entities [('50.000', 'Quantity')]\n",
      "Entities [('BSV', 'Ticker'), ('20.328', 'Quantity')]\n",
      "Entities [('CYBIX', 'Ticker'), ('65.477', 'Quantity')]\n",
      "Entities [('BND', 'Ticker')]\n",
      "Entities [('EMB', 'Ticker'), ('9.000', 'Quantity')]\n",
      "Entities [('28.000', 'Quantity')]\n",
      "Entities [('DBEF', 'Ticker'), ('49.000', 'Quantity')]\n",
      "Entities [('139.000', 'Quantity')]\n",
      "Entities [('NEW(EWU', 'Ticker'), ('104.482', 'Quantity')]\n",
      "Entities [('BND', 'Ticker'), ('164.000', 'Quantity')]\n",
      "Entities [('TCEHY', 'Ticker'), ('66.000', 'Quantity')]\n",
      "Entities [('REEIX', 'Ticker'), ('156.556', 'Quantity')]\n",
      "Entities [('DFSPX', 'Ticker'), ('459.580', 'Quantity')]\n",
      "Entities [('SCHR', 'Ticker'), ('47.239', 'Quantity')]\n",
      "Entities [('37.000', 'Quantity')]\n",
      "Entities [('FZFXX', 'Ticker'), ('7021.340', 'Quantity')]\n",
      "Entities [('28.000', 'Quantity')]\n",
      "Entities [('88.664', 'Quantity')]\n",
      "Entities [('UBER', 'Ticker'), ('77.000', 'Quantity')]\n",
      "Entities [('52.000', 'Quantity')]\n",
      "Entities [('53.000', 'Quantity')]\n",
      "Entities [('33.000', 'Quantity'), ('253.6700', 'Quantity')]\n",
      "Entities [('34.000', 'Quantity')]\n",
      "Entities [('MSTSX', 'Ticker'), ('266.075', 'Quantity')]\n",
      "Entities [('40.000', 'Quantity')]\n",
      "Entities [('AMZN', 'Ticker'), ('53.000', 'Quantity')]\n",
      "Entities [('178.000', 'Quantity')]\n",
      "Entities [('VBR', 'Ticker'), ('21.778', 'Quantity')]\n",
      "Entities [('143.000', 'Quantity')]\n",
      "Entities [('VBR', 'Ticker'), ('100.000', 'Quantity')]\n",
      "Entities [('34.000', 'Quantity')]\n",
      "Entities [('21.000', 'Quantity')]\n",
      "Entities [('114.000', 'Quantity')]\n",
      "Entities [('DOMOX', 'Ticker'), ('248.586', 'Quantity')]\n",
      "Entities [('SCHR', 'Ticker'), ('42.000', 'Quantity')]\n",
      "Entities [('52.000', 'Quantity')]\n",
      "Entities [('41.000', 'Quantity')]\n",
      "Entities [('VO', 'Ticker'), ('126.000', 'Quantity')]\n",
      "Entities [('VTI', 'Ticker'), ('EMB', 'Ticker'), ('21.000', 'Quantity')]\n",
      "Entities [('74.970', 'Quantity')]\n",
      "Entities [('CNP', 'Ticker'), ('107.000', 'Quantity')]\n",
      "Entities [('14.483', 'Quantity')]\n",
      "Entities []\n",
      "Entities [('EWU', 'Ticker'), ('218.000', 'Quantity')]\n",
      "Entities [('MOAT', 'Ticker'), ('74.000', 'Ticker'), ('14.000', 'Quantity')]\n",
      "Entities [('8.000', 'Quantity')]\n",
      "Entities [('26.000', 'Quantity')]\n",
      "Entities [('EMB', 'Ticker'), ('238.000', 'Quantity')]\n",
      "Entities [('VFH', 'Ticker'), ('31.223', 'Quantity')]\n",
      "Entities [('91.000', 'Quantity')]\n",
      "Entities [('22.000', 'Quantity')]\n",
      "Entities [('EMLC', 'Ticker'), ('121.000', 'Quantity')]\n",
      "Entities [('CMCSA', 'Ticker'), ('90.000', 'Quantity')]\n",
      "Entities [('VO', 'Ticker'), ('16.474', 'Quantity')]\n",
      "Entities [('25.000', 'Quantity')]\n",
      "Entities [('EWU', 'Ticker'), ('166.000', 'Quantity')]\n",
      "Entities [('VEA', 'Ticker'), ('VDC', 'Ticker'), ('11.000', 'Quantity')]\n",
      "Entities [('VWO', 'Ticker'), ('176.000', 'Quantity')]\n",
      "Entities [('156.000', 'Quantity')]\n",
      "Entities [('36.000', 'Quantity')]\n",
      "Entities [('7.000', 'Quantity')]\n",
      "Entities [('SCHP', 'Ticker'), ('25.000', 'Quantity')]\n",
      "Entities [('EWU', 'Ticker'), ('25.000', 'Quantity')]\n",
      "Entities [('BSV', 'Ticker'), ('73.000', 'Quantity')]\n",
      "Entities [('USD0.01(BLK', 'Ticker'), ('5.000', 'Quantity')]\n",
      "Entities [('SCHR', 'Ticker'), ('23.000', 'Quantity')]\n",
      "Entities [('MSTVX', 'Ticker'), ('1240.157', 'Quantity')]\n",
      "Entities [('SPSM', 'Ticker'), ('37.000', 'Quantity')]\n",
      "Entities [('KMX', 'Ticker'), ('34.000', 'Quantity'), ('8.000', 'Quantity')]\n",
      "Entities [('TSBIX', 'Ticker'), ('1652.285', 'Quantity')]\n",
      "Entities [('BND', 'Ticker'), ('103.906', 'Quantity')]\n",
      "Entities [('33.000', 'Quantity')]\n",
      "Entities [('ABC', 'Ticker'), ('14.000', 'Quantity')]\n",
      "Entities [('DBEF', 'Ticker'), ('186.000', 'Quantity')]\n"
     ]
    }
   ],
   "source": [
    "\n",
    "for text, _ in TRAIN_DATA:\n",
    "    doc = nlp(text)\n",
    "    print('Entities', [(ent.text, ent.label_) for ent in doc.ents])"
   ]
  },
  {
   "cell_type": "code",
   "execution_count": 8,
   "metadata": {},
   "outputs": [
    {
     "name": "stdout",
     "output_type": "stream",
     "text": [
      "Saved model to /Users/Nagarwa/AI/NLP/Model\n"
     ]
    }
   ],
   "source": [
    "\n",
    "if output_dir is not None:\n",
    "    output_dir = Path(output_dir)\n",
    "    if not output_dir.exists():\n",
    "        output_dir.mkdir()\n",
    "    nlp.to_disk(output_dir)\n",
    "    print(\"Saved model to\", output_dir)"
   ]
  },
  {
   "cell_type": "code",
   "execution_count": 9,
   "metadata": {},
   "outputs": [],
   "source": [
    "with open('rawText.txt', 'r') as file:\n",
    "    data = file.read()"
   ]
  },
  {
   "cell_type": "code",
   "execution_count": null,
   "metadata": {},
   "outputs": [],
   "source": [
    "   "
   ]
  },
  {
   "cell_type": "code",
   "execution_count": 10,
   "metadata": {},
   "outputs": [
    {
     "name": "stdout",
     "output_type": "stream",
     "text": [
      "Loading from /Users/Nagarwa/AI/NLP/Model\n",
      "Quantity 7.000\n",
      "Quantity 37.000\n",
      "Quantity 34.000\n",
      "Ticker VEA\n",
      "Quantity 40.000\n",
      "Ticker SCHR\n",
      "Quantity 23.000\n",
      "Ticker SCHP\n",
      "Quantity 28.000\n",
      "Ticker BSV\n",
      "Quantity 73.000\n",
      "Ticker BND\n",
      "Quantity 14.695\n",
      "Ticker VBR\n",
      "Quantity 21.778\n",
      "Ticker VO\n",
      "Quantity 30.931\n",
      "Ticker VTV\n",
      "Quantity 86.133\n",
      "Ticker VTI\n",
      "Ticker BND\n",
      "Quantity 17.265\n",
      "Quantity 80.000\n",
      "Ticker DBEF\n",
      "Quantity 49.000\n",
      "Quantity 25.000\n",
      "Ticker EWG\n",
      "Quantity 76.000\n",
      "Quantity 51.000\n",
      "Ticker NEW(EWU\n",
      "Quantity 87.000\n",
      "Ticker BBJP\n",
      "Ticker SPSM\n",
      "Quantity 37.000\n",
      "Ticker MOAT\n",
      "Ticker 74.000\n",
      "Quantity 14.000\n",
      "Quantity 91.000\n",
      "Ticker VEA\n",
      "Ticker VDC\n",
      "Quantity 11.000\n",
      "Quantity 23.000\n",
      "Quantity 65.000\n",
      "Ticker VBR\n",
      "Quantity 100.000\n",
      "Ticker VO\n",
      "Quantity 126.000\n",
      "Ticker VTV\n",
      "Quantity 375.000\n",
      "Ticker VTI\n",
      "Quantity 63.000\n",
      "Ticker EMB\n",
      "Quantity 238.000\n",
      "Quantity 129.000\n",
      "Ticker EMLC\n",
      "Quantity 121.000\n",
      "Ticker BSV\n",
      "Quantity 184.000\n",
      "Ticker BND\n",
      "Quantity 741.000\n",
      "Ticker VGIT\n",
      "Quantity 272.000\n",
      "Ticker VMBS\n",
      "Quantity 95.000\n",
      "Ticker VCIT\n",
      "Quantity 115.000\n",
      "Ticker EY\n",
      "Ticker USSG\n",
      "Quantity 91.000\n",
      "Quantity 188.000\n",
      "Quantity 286.000\n",
      "Ticker SCHO\n",
      "Quantity 155.000\n",
      "Ticker SCHP\n",
      "Quantity 95.000\n",
      "Ticker VGLT\n",
      "Quantity 16.000\n",
      "Ticker EY\n",
      "Ticker TSBIX\n",
      "Quantity 1652.285\n",
      "Quantity 33.000\n",
      "Quantity 14.483\n",
      "Quantity 88.664\n",
      "Ticker NEW(EWU\n",
      "Quantity 104.482\n",
      "Ticker BBJP\n",
      "Quantity 80.489\n",
      "Quantity 74.970\n",
      "Ticker VEA\n",
      "Quantity 72.923\n",
      "Ticker VFH\n",
      "Quantity 31.223\n",
      "Ticker VO\n",
      "Quantity 16.474\n",
      "Ticker SCHR\n",
      "Quantity 47.239\n",
      "Ticker SCHP\n",
      "Quantity 28.738\n",
      "Ticker BSV\n",
      "Quantity 20.328\n",
      "Ticker BND\n",
      "Quantity 103.906\n",
      "Quantity 3.000\n",
      "Quantity 2.000\n",
      "Ticker AMZN\n",
      "Quantity 53.000\n",
      "Ticker ABC\n",
      "Quantity 14.000\n",
      "Ticker ANTM\n",
      "Quantity 1662.1300\n",
      "Quantity 3.000\n",
      "Ticker KMX\n",
      "Quantity 34.000\n",
      "Quantity 8.000\n",
      "Quantity 166.000\n",
      "Quantity 32.0000\n",
      "Quantity 33.000\n",
      "Quantity 253.6700\n",
      "Quantity 53.000\n",
      "Quantity 148.9100\n",
      "Ticker LYFT\n",
      "Quantity 57.000\n",
      "Quantity 52.000\n",
      "Ticker MSFT\n",
      "Quantity 50.000\n",
      "Ticker TCEHY\n",
      "Quantity 66.000\n",
      "Ticker UBER\n",
      "Quantity 77.000\n",
      "Quantity 13.000\n",
      "Quantity 30.000\n",
      "Ticker FDRXX\n",
      "Quantity 1594.840\n",
      "Ticker EY\n",
      "Quantity 81.466\n",
      "Ticker DFSPX\n",
      "Quantity 459.580\n",
      "Ticker DOMOX\n",
      "Quantity 248.586\n",
      "Ticker MSTSX\n",
      "Quantity 266.075\n",
      "Ticker MSTVX\n",
      "Quantity 1240.157\n",
      "Ticker PFPMX\n",
      "Quantity 54.164\n",
      "Quantity 57.012\n",
      "Ticker REEIX\n",
      "Quantity 156.556\n",
      "Quantity I\n",
      "Ticker AGEYX\n",
      "Quantity 536.966\n",
      "Ticker CYBIX\n",
      "Quantity 65.477\n",
      "Ticker CRANX\n",
      "Quantity 370.072\n",
      "Ticker MSTBX\n",
      "Quantity 452.233\n",
      "Quantity 31.000\n",
      "Quantity 22.000\n",
      "Ticker EWU\n",
      "Quantity 25.000\n",
      "Ticker BBJP\n",
      "Quantity 29.000\n",
      "Ticker SCHM\n",
      "Quantity 23.000\n",
      "Quantity 28.000\n",
      "Quantity 40.000\n",
      "Ticker VEA\n",
      "Quantity 17.000\n",
      "Ticker VWO\n",
      "Ticker VTV\n",
      "Quantity 15.000\n",
      "Quantity 103.3100\n",
      "Quantity 25.000\n",
      "Ticker VTI\n",
      "Ticker EMB\n",
      "Quantity 21.000\n",
      "Quantity 53.000\n",
      "Quantity 23.000\n",
      "Quantity 139.000\n",
      "Ticker EWU\n",
      "Quantity 166.000\n",
      "Ticker BBJP\n",
      "Quantity 125.000\n",
      "Quantity 114.000\n",
      "Quantity 50.000\n",
      "Ticker VFH\n",
      "Quantity 27.000\n",
      "Ticker VO\n",
      "Quantity A\n",
      "Quantity 69.000\n",
      "Ticker SCHR\n",
      "Quantity 2540.77\n",
      "Quantity 46.000\n",
      "Ticker SCHP\n",
      "Ticker BSV\n",
      "Quantity 33.000\n",
      "Quantity 83.3000\n",
      "Ticker BND\n",
      "Quantity 164.000\n",
      "Quantity 151.000\n",
      "Quantity 34.000\n",
      "Ticker WPP\n",
      "Quantity 32.000\n",
      "Quantity 156.000\n",
      "Quantity 28.000\n",
      "Ticker AMGN\n",
      "Quantity 15.000\n",
      "Ticker USD0.01(BLK\n",
      "Quantity 5.000\n",
      "Quantity 17.000\n",
      "Ticker CNP\n",
      "Quantity 107.000\n",
      "Ticker KO\n",
      "Quantity 65.000\n",
      "Ticker CMCSA\n",
      "Quantity 90.000\n",
      "Quantity 43.000\n",
      "Quantity 36.000\n",
      "Quantity 50.000\n",
      "Ticker DUK\n",
      "Quantity 156.000\n",
      "Quantity 32.0000\n",
      "Quantity 49.000\n",
      "Quantity 52.000\n",
      "Quantity 51.000\n",
      "Quantity 21.000\n",
      "Quantity 223.000\n",
      "Quantity 8.000\n",
      "Quantity 31.000\n",
      "Quantity 1245.000\n",
      "Quantity 6.000\n",
      "Quantity 26.000\n",
      "Ticker PFE\n",
      "Quantity 139.000\n",
      "Ticker FZFXX\n",
      "Quantity 7021.340\n",
      "Ticker EY\n",
      "Quantity 6.000\n",
      "Quantity 41.000\n",
      "Ticker VEA\n",
      "Quantity 38.000\n",
      "Ticker EMB\n",
      "Quantity 9.000\n",
      "Ticker SCHR\n",
      "Quantity 42.000\n",
      "Ticker SCHP\n",
      "Quantity 25.000\n",
      "Ticker BSV\n",
      "Quantity 24.000\n",
      "Ticker BND\n",
      "Quantity 72.000\n",
      "Ticker DBEF\n",
      "Quantity 186.000\n",
      "Quantity 113.000\n",
      "Ticker EWG\n",
      "Quantity 103.000\n",
      "Quantity 143.000\n",
      "Quantity 245.000\n",
      "Ticker EWU\n",
      "Quantity 218.000\n",
      "Ticker BBJP\n",
      "Quantity 182.000\n",
      "Quantity 57.000\n",
      "Quantity 178.000\n",
      "Ticker MOAT\n",
      "Quantity 54.000\n",
      "Ticker VEA\n",
      "Quantity 217.000\n",
      "Ticker VFH\n",
      "Quantity 49.000\n",
      "Ticker VWO\n",
      "Quantity 176.000\n",
      "Quantity 69.000\n",
      "Ticker VEA\n",
      "Quantity 109.000\n",
      "Ticker SUB\n",
      "Quantity 116.000\n",
      "Ticker VTEB\n",
      "Quantity 362.000\n",
      "Ticker DBEF\n",
      "Quantity 381.000\n",
      "Quantity 145.000\n",
      "Quantity 104.000\n",
      "Ticker EWG\n",
      "Quantity 269.000\n",
      "Quantity 248.000\n",
      "Quantity 489.000\n",
      "Ticker EWU\n",
      "Quantity 415.000\n",
      "Ticker BBJP\n",
      "Quantity 329.000\n",
      "Quantity 306.000\n",
      "Ticker MOAT\n",
      "Quantity 75.000\n",
      "Ticker VEA\n",
      "Quantity 425.000\n",
      "Ticker VDC\n",
      "Quantity 59.000\n",
      "Ticker VFH\n",
      "Quantity 96.000\n",
      "Ticker VWO\n",
      "Quantity 296.000\n",
      "Quantity 7647.350\n",
      "Ticker FDRXX\n",
      "Quantity 602.590\n",
      "Ticker EY\n",
      "Quantity 131.147\n",
      "Ticker GRIFX\n",
      "Ticker STQX\n",
      "Quantity 1456.412\n",
      "Quantity 1027.308\n",
      "Quantity 126.850\n",
      "Ticker MSTSX\n",
      "Quantity 230.274\n",
      "Ticker MSTVX\n",
      "Quantity 1804.137\n",
      "Ticker MSTRX\n",
      "Quantity 830.116\n",
      "Ticker MSTBX\n",
      "Ticker MSTMX\n",
      "Quantity 369.200\n",
      "Ticker EY\n",
      "Ticker EY\n",
      "Quantity 6.090\n",
      "Ticker PM\n",
      "Quantity 29.000\n",
      "Ticker PARTNR\n",
      "Ticker PAGP\n",
      "Quantity 87.000\n",
      "Quantity 36.000\n",
      "Quantity 15.000\n",
      "Quantity 17.000\n",
      "Ticker TXN\n",
      "Quantity 53.000\n",
      "Quantity 32.000\n",
      "Quantity 54.000\n",
      "Quantity 103.000\n",
      "Ticker AI\n",
      "Ticker LAMR\n",
      "Quantity 57.000\n",
      "Quantity 68.000\n",
      "Ticker VTR\n",
      "Quantity 68.000\n",
      "Quantity 24.000\n",
      "Ticker DHPIX\n",
      "Quantity 265.410\n",
      "Ticker MSTQX\n",
      "Quantity 2486.409\n",
      "Quantity 1658.253\n",
      "Ticker MSTSX\n",
      "Quantity 587.449\n",
      "Ticker MSTVX\n",
      "Quantity 558.642\n",
      "Ticker VHCIX\n",
      "Quantity 29.845\n",
      "Quantity A\n",
      "Ticker MSTRX\n",
      "Quantity 1557.879\n",
      "Ticker MSTMX\n",
      "Quantity 728.757\n",
      "Ticker FDRXX\n",
      "Quantity 2568.510\n",
      "Ticker DHPIX\n",
      "Quantity 87.013\n",
      "Quantity 51.243\n",
      "Ticker INSTL(MSTQX\n",
      "Quantity 736.938\n",
      "Quantity 460.351\n",
      "Ticker MSTSX\n",
      "Quantity 198.892\n",
      "Ticker MSTVX\n",
      "Quantity 236.835\n",
      "Ticker MSTRX\n",
      "Quantity 704.847\n",
      "Ticker MSTMX\n",
      "Quantity 439.863\n",
      "Ticker FDRXX\n",
      "Quantity 1447.080\n",
      "Quantity 24.000\n",
      "Ticker ABC\n",
      "Quantity 50.000\n",
      "Ticker ADI\n",
      "Quantity 40.000\n",
      "Ticker BK\n",
      "Quantity 115.000\n",
      "Ticker BRKB\n",
      "Quantity 89.000\n",
      "Quantity 3.000\n",
      "Ticker CMCSA\n",
      "Quantity 213.000\n",
      "Quantity 46.000\n",
      "Quantity 141.000\n",
      "Quantity 201.000\n",
      "Quantity 32.0000\n",
      "Ticker XOM\n",
      "Quantity 35.000\n",
      "Quantity 34.000\n",
      "Ticker GD\n",
      "Quantity 43.000\n",
      "Ticker HD\n",
      "Quantity 12.000\n",
      "Quantity 43.000\n",
      "Quantity 18.000\n",
      "Quantity 16.000\n",
      "Ticker MCK\n",
      "Quantity 14.000\n",
      "Quantity 96.000\n",
      "Quantity 44.000\n",
      "Ticker ORCL\n",
      "Quantity 155.000\n",
      "Ticker PEP\n",
      "Quantity 28.000\n",
      "Ticker CORP\n",
      "Quantity 28.000\n",
      "Quantity 100.000\n",
      "Ticker EY\n",
      "Ticker DHPIX\n",
      "Quantity 87.013\n",
      "Quantity 51.243\n",
      "Ticker INSTL(MSTQX\n",
      "Quantity 736.938\n",
      "Quantity 460.351\n",
      "Quantity 198.892\n",
      "Ticker MSTSX\n",
      "Quantity 236.835\n",
      "Ticker MSTVX\n",
      "Quantity 704.847\n",
      "Ticker MSTRX\n",
      "Ticker MSTMX\n",
      "Quantity 439.863\n",
      "Ticker EY\n",
      "Ticker FDRXX\n",
      "Quantity 1447.080\n",
      "Quantity 67.000\n",
      "Ticker SCHP\n",
      "Quantity 52.000\n",
      "Ticker EMLC\n",
      "Quantity 42.000\n",
      "Ticker BLV\n",
      "Quantity 11.000\n",
      "Ticker BSV\n",
      "Quantity 142.000\n",
      "Ticker BND\n",
      "Quantity 146.000\n",
      "Ticker VCSH\n",
      "Quantity 19.000\n",
      "Ticker VGIT\n",
      "Quantity 64.000\n",
      "Ticker VMBS\n",
      "Quantity 105.000\n",
      "Ticker VCIT\n",
      "Quantity 30.000\n",
      "Quantity 6.000\n",
      "Quantity 41.000\n",
      "Ticker VEA\n",
      "Quantity 38.000\n",
      "Ticker EMB\n",
      "Quantity 9.000\n",
      "Ticker SCHR\n",
      "Quantity 42.000\n",
      "Ticker SCHP\n",
      "Quantity 25.000\n",
      "Ticker BOND(BSV\n",
      "Quantity 24.000\n",
      "Ticker BND\n",
      "Quantity 72.000\n",
      "Quantity 681.431\n",
      "Quantity 465.670\n",
      "Ticker MSTSX\n",
      "Quantity 230.115\n",
      "Ticker MSTVX\n",
      "Quantity 266.550\n",
      "Ticker MSTRX\n",
      "Quantity 658.647\n",
      "Ticker MSTMX\n",
      "Quantity 411.221\n",
      "Ticker FDRXX\n",
      "Quantity 1021.830\n",
      "Ticker EA\n",
      "Ticker DHPIX\n",
      "Quantity 141.888\n",
      "Quantity 150.382\n",
      "Ticker NSTL(MSTQX\n",
      "Quantity 422.933\n",
      "Quantity 745.297\n",
      "Ticker MSTSX\n",
      "Quantity 298.981\n",
      "Quantity 6549.834\n",
      "Ticker MSTMX\n",
      "Quantity 709.138\n",
      "Quantity 23.000\n",
      "Quantity 1979.630\n",
      "Quantity 1.0000\n",
      "Ticker EY\n",
      "Ticker DBEF\n",
      "Quantity 70.814\n",
      "Quantity 41.000\n",
      "Quantity 24.000\n",
      "Ticker EWG\n",
      "Quantity 74.761\n",
      "Quantity 7.529\n",
      "Quantity 52.994\n",
      "Quantity 105.076\n",
      "Ticker NEW(EWU\n",
      "Quantity 122.027\n",
      "Quantity 87.580\n",
      "Ticker BBJP\n",
      "Quantity 31.365\n",
      "Quantity A\n",
      "Quantity 20.089\n",
      "Ticker MOAT\n",
      "Quantity 82.550\n",
      "Ticker VEA\n",
      "Quantity 8.579\n",
      "Ticker VDC\n",
      "Ticker VFH\n",
      "Quantity 22.158\n",
      "Quantity 53.188\n",
      "Ticker VTV\n",
      "Quantity 85.000\n",
      "Ticker VTI\n",
      "Quantity 198.000\n",
      "Ticker EMB\n",
      "Quantity 64.000\n",
      "Quantity 257.000\n",
      "Quantity 210.000\n",
      "Quantity 137.000\n",
      "Ticker EMLC\n",
      "Quantity 371.000\n",
      "Ticker BSV\n",
      "Quantity 635.000\n",
      "Quantity 258.000\n",
      "Ticker VGIT\n",
      "Quantity 232.000\n",
      "Ticker VMBS\n",
      "Quantity 118.000\n",
      "Ticker VCIT\n",
      "Ticker DHPIX\n",
      "Quantity 167.244\n",
      "Ticker MSTQX\n",
      "Quantity 1567.174\n",
      "Quantity 1045.201\n",
      "Ticker MSTSX\n",
      "Quantity 370.234\n",
      "Ticker MSTVX\n",
      "Quantity 352.108\n",
      "Ticker VHCIX\n",
      "Quantity 18.141\n",
      "Quantity 981.921\n",
      "Ticker STMX\n",
      "Quantity 459.331\n"
     ]
    }
   ],
   "source": [
    "print(\"Loading from\", output_dir)\n",
    "for line in data.splitlines():\n",
    "    doc = nlp(line)\n",
    "    for ent in doc.ents:\n",
    "        print(ent.label_, ent.text)"
   ]
  },
  {
   "cell_type": "code",
   "execution_count": null,
   "metadata": {},
   "outputs": [],
   "source": []
  }
 ],
 "metadata": {
  "kernelspec": {
   "display_name": "Python 3",
   "language": "python",
   "name": "python3"
  },
  "language_info": {
   "codemirror_mode": {
    "name": "ipython",
    "version": 3
   },
   "file_extension": ".py",
   "mimetype": "text/x-python",
   "name": "python",
   "nbconvert_exporter": "python",
   "pygments_lexer": "ipython3",
   "version": "3.7.7"
  }
 },
 "nbformat": 4,
 "nbformat_minor": 4
}
